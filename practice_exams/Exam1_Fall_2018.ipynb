{
 "cells": [
  {
   "cell_type": "markdown",
   "metadata": {},
   "source": [
    "# Exam #1 CHEM 571A Fall 2018"
   ]
  },
  {
   "cell_type": "markdown",
   "metadata": {},
   "source": [
    "1.  The Morse potential is a reasonably good description of a bond potential for a diatomic molecule.  This potential is given as $U(r) = D_e\\left(1-e^{-\\beta (r-r_e)}\\right)^2$ where $D_e$ is the dissocation energy, $\\beta$ is related to the curvature of the potential near the minimum and $r_e$ is the equilibrium bond length.  An alternative description of a bond potential is the Lennard-Jones potential given as $U(r) = 4\\epsilon\\left[\\left(\\frac{\\sigma}{r}\\right)^{12} - \\left(\\frac{\\sigma}{r}\\right)^6\\right]$ where $\\epsilon$ is related to the well depth of the potential and $\\sigma$ is the separation distance at which the potential is equal to zero.  For an HF molecule, parameters for the Morse potential are $D_e = 0.4891265$ Rydberg, $\\beta=1.208173$ Bohr$^{-1}$, and $r_e = 1.7322534$ Bohr.  \n",
    "\n",
    "    1. Determine the linear least square values for the LJ potential that best fits the Morse potential for HF using the parameters given.\n",
    "    \n",
    "    2. Determine the first three vibrational energy levels (numeric values in units of $\\hbar$) for both potentials.  Compare these to the Harmonic Oscillator solutions.  Make sure to state any assumptions or approximations used to solve for these.\n",
    "    \n",
    "    3. Make a plot of the potentials as a function of $r$.  Include the first three energy levels and wavefunctions.  \n",
    "    \n",
    "    4.  Compute the transition dipole moments in the Harmonic Oscillator approximation, Morse and Lennard-Jones Hamiltonians for the $0\\rightarrow0$, $0\\rightarrow1$, $0\\rightarrow2$ and $1\\rightarrow2$ transitions.   What does this suggest about the selection rules for each oscillator?\n",
    "    \n",
    "2. The rotational and vibrational energy levels of a molecule are actually coupled.  The full solution to this problem is relatively challenging.  A simple approximation is to rewrite the rotational energy levels to be $E=B_\\nu J(J+1)$ where $B_\\nu$ depends on the vibrational state $\\nu$.  The functional form of this dependence we will write as $B_\\nu=\\frac{\\hbar}{2\\langle I \\rangle_\\nu}$ where $\\langle I \\rangle_\\nu$ is the expectation value of the moment of intertia, $I$, in the vibrational state $\\nu$.  \n",
    "\n",
    "    1. Compute the analytic solutions to $B_\\nu$ for a Harmonic Oscillator for states $\\nu=0,1,2$.  \n",
    "    \n",
    "    2. Determine the R- and P-branch spacings in the rotational-vibrational spectrum for the $\\nu:0\\rightarrow1$ and $\\nu:1\\rightarrow2$ transitions.\n",
    "    \n",
    "    3. Estimate $B_0$ and $B_1$ for the Morse potential given in problem 1. "
   ]
  },
  {
   "cell_type": "code",
   "execution_count": null,
   "metadata": {},
   "outputs": [],
   "source": []
  }
 ],
 "metadata": {
  "kernelspec": {
   "display_name": "Python 2",
   "language": "python",
   "name": "python2"
  },
  "language_info": {
   "codemirror_mode": {
    "name": "ipython",
    "version": 2
   },
   "file_extension": ".py",
   "mimetype": "text/x-python",
   "name": "python",
   "nbconvert_exporter": "python",
   "pygments_lexer": "ipython2",
   "version": "2.7.14"
  }
 },
 "nbformat": 4,
 "nbformat_minor": 2
}
