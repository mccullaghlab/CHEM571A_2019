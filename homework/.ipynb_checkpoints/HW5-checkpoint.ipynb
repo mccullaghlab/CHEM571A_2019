{
 "cells": [
  {
   "cell_type": "markdown",
   "metadata": {},
   "source": [
    "## CHEM 571A Fall 2018 Problem Set #5"
   ]
  },
  {
   "cell_type": "markdown",
   "metadata": {},
   "source": [
    "1. Design a basis set for a 1D particle in a box bounded between $0 \\leq x \\leq a$ that yields a Hermitian Hamiltonian in the variational solution.  What is the basis set?  Give the variational solution energies for 1, 2 and 3 basis functions in this basis.  \n",
    "\n",
    "2. Determine the normal modes for a model of a carbon dioxide molecule desribed by the following Hamiltonian, \n",
    "\n",
    "$ H(\\mathbf{x_1},\\mathbf{x_2},\\mathbf{x_3}) = 1/2k_b(d(\\mathbf{x_1},\\mathbf{x_2})-x_0)^2 + 1/2k_b(d(\\mathbf{x_2},\\mathbf{x_3})-x_0)^2 + 1/2k_{ang}(\\theta(\\mathbf{x_1},\\mathbf{x_2},\\mathbf{x_3}) - \\theta_0)^2$,\n",
    "\n",
    "where $k_b= 8610.7 $ kJ/mol/Angstrom$^2$ is the bond force constant for both carbon-oxygen bonds, $x_0 = 1.16$ Angstroms is the equilibrium bond distance for both bonds, $d(\\mathbf{x_1},\\mathbf{x_2})$ is the distance between atoms 1 and 2, $k_{ang}=468.61$ kJ/mol/rad$^2$ is the angle force constant, $\\theta(\\mathbf{x_1},\\mathbf{x_2},\\mathbf{x_3})$ is the angle between the three atoms and $\\theta_0=180^\\circ$ is the equilibrium angle value."
   ]
  },
  {
   "cell_type": "code",
   "execution_count": null,
   "metadata": {},
   "outputs": [],
   "source": []
  }
 ],
 "metadata": {
  "kernelspec": {
   "display_name": "Python 3",
   "language": "python",
   "name": "python3"
  },
  "language_info": {
   "codemirror_mode": {
    "name": "ipython",
    "version": 3
   },
   "file_extension": ".py",
   "mimetype": "text/x-python",
   "name": "python",
   "nbconvert_exporter": "python",
   "pygments_lexer": "ipython3",
   "version": "3.6.5"
  }
 },
 "nbformat": 4,
 "nbformat_minor": 2
}
