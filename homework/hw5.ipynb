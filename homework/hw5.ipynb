{
 "cells": [
  {
   "cell_type": "markdown",
   "metadata": {},
   "source": [
    "# \"Review\" of Variatonal Approach in Quantum Mechanics"
   ]
  },
  {
   "cell_type": "markdown",
   "metadata": {},
   "source": [
    "The variational method in quantum mechanics states that: given a Hamiltonian for a system, $\\hat{H}$, the expectation value of this operator for any function (trial wavefunction), $\\phi$, will be greater than that of the energy of the true ground state wavefunction, $\\psi_0$.  This can be stated mathematically as\n",
    "\n",
    "$\\langle E \\rangle_\\phi = \\frac{\\langle \\phi|\\hat{H}|\\phi\\rangle}{\\langle \\phi | \\phi \\rangle} \\geq E_0$\n",
    "\n",
    "where $E_0$ is the ground state energy of the Schrodinger equation\n",
    "\n",
    "$\\hat{H} \\psi_0 = E_0 \\psi_0$.\n",
    "\n",
    "This relationship allows us to express a trial wavefunction in terms of \"variational\" parameters and then minimnize the energy with respect to these parameters and still maintain the inequality above. "
   ]
  },
  {
   "cell_type": "markdown",
   "metadata": {},
   "source": [
    "## Variational Method for One Basis Function (due by 5pm Monday 10/8/18)"
   ]
  },
  {
   "cell_type": "markdown",
   "metadata": {},
   "source": [
    "1. What is the energy expectation value for the trial wavefunction, $\\phi(x) = c_0 e^{-\\alpha (x-x_0)^2}$, for a 1D harmonic oscillator ($\\hat{H} = \\hat{K} + \\hat{V} = -\\frac{\\hbar^2}{2m}\\frac{d^2}{dx^2} + \\frac{\\mu\\omega^2}{2}x^2$ :note that I have used $k = \\mu\\omega^2$)? \n",
    "\n",
    " 1. The goal is to derive an expression for $\\langle E \\rangle_\\phi$. Below I breakdown the problem and show the solutions for each component so that you can check your work.\n",
    "\n",
    "    a. $\\langle E \\rangle_\\phi = \\frac{\\langle \\phi|\\hat{H}|\\phi\\rangle}{\\langle \\phi | \\phi \\rangle} = \\frac{\\langle \\phi|\\hat{K}|\\phi\\rangle + \\langle \\phi|\\hat{V}|\\phi\\rangle}{\\langle \\phi | \\phi \\rangle}$\n",
    "\n",
    "    b. $\\langle \\phi| \\phi \\rangle = \\int_{-\\infty}^{\\infty} c_0 e^{-\\alpha (x-x_0)^2} c_0 e^{-\\alpha (x-x_0)^2} dx = c_0^2\\sqrt{\\frac{\\pi}{2\\alpha}}$\n",
    "\n",
    "    c. $\\langle \\phi|\\hat{K}|\\phi\\rangle = \\int_{-\\infty}^{\\infty} c_0 e^{-\\alpha (x-x_0)^2}\\left[ -\\frac{\\hbar^2}{2\\mu}\\frac{d^2}{dx^2} \\right]c_0 e^{-\\alpha (x-x_0)^2} dx = \\frac{c_0^2\\hbar^2\\alpha}{2\\mu}\\sqrt{\\frac{\\pi}{2\\alpha}} $\n",
    "\n",
    "    d. $ \\langle \\phi|\\hat{V}|\\phi\\rangle = \\int_{-\\infty}^{\\infty} c_0 e^{-\\alpha (x-x_0)^2}\\left[ \\frac{\\mu\\omega^2}{2}x^2 \\right]c_0 e^{-\\alpha (x-x_0)^2} dx = \\frac{c_0^2\\mu\\omega^2}{2}\\sqrt{\\frac{\\pi}{2\\alpha}}\\left[\\frac{1}{4\\alpha}+x_0^2\\right] $\n",
    "\n",
    "    e. $\\langle E \\rangle_\\phi = \\frac{\\hbar^2\\alpha}{2\\mu} + \\frac{\\mu\\omega^2}{2}\\left[\\frac{1}{4\\alpha} + x_0^2\\right] $\n",
    "\n",
    "2. Minimize $\\langle E \\rangle_\\phi$ with resepct to $\\alpha$ and show that this yields $\\alpha=\\frac{\\mu\\omega}{2\\hbar}$.  Note that this is applying the variational principle to our trial wavefunction (to non-linear coefficient $\\alpha$).  Also recognize that this is dictating the width of the gaussian basis function.\n",
    "\n",
    "3.  Minimize $\\langle E \\rangle_\\phi$ with resepct to $x_0$ and show that this yields $x_0=0$.  Note that this is applying the variational principle to our trial wavefunction (to non-linear coefficient $x_0$).\n",
    "\n",
    "4. Given all of the above, what is the variationally optimized wavefunction, $\\phi(x)$?  Have we determined $c_0$?  If so, what is it?  If not, how can we determine it?  \n",
    "\n",
    "5. Compare optimized $\\phi(x)$ and $\\langle E \\rangle_\\phi$ to the ground-state harmonic oscillator solutions."
   ]
  }
 ],
 "metadata": {
  "kernelspec": {
   "display_name": "Python 2",
   "language": "python",
   "name": "python2"
  },
  "language_info": {
   "codemirror_mode": {
    "name": "ipython",
    "version": 2
   },
   "file_extension": ".py",
   "mimetype": "text/x-python",
   "name": "python",
   "nbconvert_exporter": "python",
   "pygments_lexer": "ipython2",
   "version": "2.7.14"
  }
 },
 "nbformat": 4,
 "nbformat_minor": 2
}
