{
 "cells": [
  {
   "cell_type": "markdown",
   "metadata": {},
   "source": [
    "# Homework 1: Math Review"
   ]
  },
  {
   "cell_type": "markdown",
   "metadata": {},
   "source": [
    "## Complex Numbers"
   ]
  },
  {
   "cell_type": "markdown",
   "metadata": {},
   "source": [
    "Suggested reading: McQuarrie MathChapter A"
   ]
  },
  {
   "cell_type": "markdown",
   "metadata": {},
   "source": [
    "1. Find the real and imaginary parts of the following quantities:\n",
    "\n",
    "    a. $(2-i)^3$\n",
    "    \n",
    "    b. $e^{\\pi i/2}$\n",
    "    \n",
    "    c. $e^{-2+i\\pi/2}$\n",
    "    \n",
    "    d. $(\\sqrt{2}+2i)e^{-i\\pi/2}$"
   ]
  },
  {
   "cell_type": "markdown",
   "metadata": {},
   "source": [
    "&nbsp;&nbsp;&nbsp;&nbsp;2\\. Find the three distinct roots of $x^3 = 8$."
   ]
  },
  {
   "cell_type": "markdown",
   "metadata": {},
   "source": [
    "## Vectors and Matrices"
   ]
  },
  {
   "cell_type": "markdown",
   "metadata": {},
   "source": [
    "Suggested reading: McQuarrie MathChapter C and G"
   ]
  },
  {
   "cell_type": "markdown",
   "metadata": {},
   "source": [
    "&nbsp;&nbsp;&nbsp;&nbsp;3\\. For the following two vectors, $\\mathbf{v} = 2\\mathbf{i} - \\mathbf{j} + 3 \\mathbf{k}$ and $\\mathbf{u} = \\mathbf{i} + 4\\mathbf{j} - \\mathbf{k}$, compute the following:\n",
    "\n",
    "&nbsp;&nbsp;&nbsp;&nbsp;&nbsp;&nbsp;&nbsp;&nbsp;a. $|\\mathbf{u}|$\n",
    "\n",
    "&nbsp;&nbsp;&nbsp;&nbsp;&nbsp;&nbsp;&nbsp;&nbsp;b. $|\\mathbf{v}|$\n",
    "\n",
    "&nbsp;&nbsp;&nbsp;&nbsp;&nbsp;&nbsp;&nbsp;&nbsp;c. $\\mathbf{u}\\cdot\\mathbf{v}$\n",
    "\n",
    "&nbsp;&nbsp;&nbsp;&nbsp;&nbsp;&nbsp;&nbsp;&nbsp;d. $\\mathbf{u}\\times\\mathbf{v}$\n",
    "\n",
    "&nbsp;&nbsp;&nbsp;&nbsp;&nbsp;&nbsp;&nbsp;&nbsp;d. $\\mathbf{v}\\times\\mathbf{u}$"
   ]
  },
  {
   "cell_type": "markdown",
   "metadata": {},
   "source": [
    "&nbsp;&nbsp;&nbsp;&nbsp;4\\. Given the two matrices $ \\mathbf{A} =  \\begin{bmatrix} 1 & 2 & 3\\\\ 4 & 5 & 6\\end{bmatrix}$ and $ \\mathbf{B} = \\begin{bmatrix} -2 & -6 & 1 \\\\ -3 & 4 & -1 \\end{bmatrix}$ compute the following:\n",
    "\n",
    "&nbsp;&nbsp;&nbsp;&nbsp;&nbsp;&nbsp;&nbsp;&nbsp;a. $\\mathbf{A} - \\mathbf{B}$\n",
    "\n",
    "&nbsp;&nbsp;&nbsp;&nbsp;&nbsp;&nbsp;&nbsp;&nbsp;b. $\\mathbf{A}\\cdot\\mathbf{B}^T$\n",
    "\n",
    "&nbsp;&nbsp;&nbsp;&nbsp;&nbsp;&nbsp;&nbsp;&nbsp;c. $\\mathbf{A}^T\\cdot\\mathbf{B}$\n"
   ]
  },
  {
   "cell_type": "markdown",
   "metadata": {},
   "source": [
    "## Eigenvalue Problems"
   ]
  },
  {
   "cell_type": "markdown",
   "metadata": {},
   "source": [
    "Suggested reading: McQuarrie MathChapter H"
   ]
  },
  {
   "cell_type": "markdown",
   "metadata": {},
   "source": [
    "&nbsp;&nbsp;&nbsp;&nbsp;5\\. Show that the matrix  $ \\mathbf{A} =  \\begin{bmatrix} 1 & i & 1-i\\\\ -i & 0 & -1+i \\\\ 1+i & -1-i & 3\\end{bmatrix}$ is Hermitian"
   ]
  },
  {
   "cell_type": "markdown",
   "metadata": {},
   "source": [
    "&nbsp;&nbsp;&nbsp;&nbsp;6\\. Compute the eigenvalues and eigenvectors of the matrix $ \\mathbf{A} =  \\begin{bmatrix} 1 & 0 & -1\\\\ 0 & 1 & 0 \\\\ -1 & 0 & 1\\end{bmatrix}$."
   ]
  },
  {
   "cell_type": "markdown",
   "metadata": {},
   "source": [
    "&nbsp;&nbsp;&nbsp;&nbsp;7\\. (BONUS) Compute the eigenvalues and eigenvectors of the matrix $ \\mathbf{A} =  \\begin{bmatrix} 2 & 0 & 2 & 0 & 2\\\\ 0 & 3 & 0 & 3 & 0\\\\ 2 & 0 & 2 & 0 & 2\\\\ 0 & 3 & 0 & 3 & 0 \\\\ 2 & 0 & 2 & 0 & 2\\end{bmatrix}$."
   ]
  },
  {
   "cell_type": "markdown",
   "metadata": {},
   "source": [
    "## Integration and Differentiation"
   ]
  },
  {
   "cell_type": "markdown",
   "metadata": {},
   "source": [
    "&nbsp;&nbsp;&nbsp;&nbsp;8\\. Perform the following integration analytically:\n",
    "\n",
    "&nbsp;&nbsp;&nbsp;&nbsp;&nbsp;&nbsp;&nbsp;&nbsp;a. $\\int xe^{6x}dx$\n",
    "\n",
    "&nbsp;&nbsp;&nbsp;&nbsp;&nbsp;&nbsp;&nbsp;&nbsp;b. $\\int_1^4 x^2e^{3x}dx$\n"
   ]
  },
  {
   "cell_type": "markdown",
   "metadata": {},
   "source": [
    "&nbsp;&nbsp;&nbsp;&nbsp;9\\. Perform the following integration numerically:\n",
    "\n",
    "&nbsp;&nbsp;&nbsp;&nbsp;&nbsp;&nbsp;&nbsp;&nbsp;a. $\\int_1^4 x^2e^{3x}dx$ using the rectangle rule with spacing of 0.5\n",
    "\n",
    "&nbsp;&nbsp;&nbsp;&nbsp;&nbsp;&nbsp;&nbsp;&nbsp;a. $\\int_1^4 x^2e^{3x}dx$ using the trapezoid method with spacing of 0.5\n",
    "\n",
    "&nbsp;&nbsp;&nbsp;&nbsp;&nbsp;&nbsp;&nbsp;&nbsp;a. $\\int_1^4 x^2e^{3x}dx$ using the Simpson's rule with spacing of 0.5"
   ]
  },
  {
   "cell_type": "markdown",
   "metadata": {},
   "source": [
    "&nbsp;&nbsp;&nbsp;&nbsp;10\\. Compute $ \\frac{df}{dx}$ for the following functions\n",
    "\n",
    "&nbsp;&nbsp;&nbsp;&nbsp;&nbsp;&nbsp;&nbsp;&nbsp;a. $f(x) = x^2ln(x)$\n",
    "\n",
    "&nbsp;&nbsp;&nbsp;&nbsp;&nbsp;&nbsp;&nbsp;&nbsp;b. $f(x) = \\frac{e^{2x}}{x^3}$"
   ]
  }
 ],
 "metadata": {
  "kernelspec": {
   "display_name": "Python 3",
   "language": "python",
   "name": "python3"
  },
  "language_info": {
   "codemirror_mode": {
    "name": "ipython",
    "version": 3
   },
   "file_extension": ".py",
   "mimetype": "text/x-python",
   "name": "python",
   "nbconvert_exporter": "python",
   "pygments_lexer": "ipython3",
   "version": "3.6.5"
  }
 },
 "nbformat": 4,
 "nbformat_minor": 2
}
