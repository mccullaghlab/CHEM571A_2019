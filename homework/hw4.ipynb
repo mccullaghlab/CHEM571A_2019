{
 "cells": [
  {
   "cell_type": "markdown",
   "metadata": {},
   "source": [
    "# Problem Set #4 CHEM 571A Fall 2019"
   ]
  },
  {
   "cell_type": "markdown",
   "metadata": {},
   "source": [
    "1. Determine the optimal coefficients for fitting the \"data\" given below to basis functions $g_0(x) = 1 $, $g_1(x) = x $, $g_2(x) = (x-3)^2$, $g_3(x) = (x-3)^3 $, $g_4(x) = e^{x}$.  Provide a plot with data and fit as well as numerical values of the coefficients.  The trial/variational wave function should look like $\\phi = \\sum_{i=0}^4c_ig_i(x)$.\n",
    "\n",
    "2. Determine the energy and wavefunction of the first excited state of the particle in a 1D box bounded by $0\\leq x \\leq a$ using the variational principle and a fourth order polynomial expansion of the wavefunction (i.e. $\\psi(x) \\approx \\sum_{n=0}^4c_nx^n$).   Compare the energy to that of the analytic solution.\n",
    "\n",
    "3. The potential for a quantum harmonic oscillator is given as $V(x) = 1/2kx^2$. Make a plot that depicts the potential and at least the first five energy levels for two oscialltors, one with $k=1.0$ and the other with $k=3.0$.  \n",
    "\n",
    "4. Derive expressions (perform the integrals) for the variational matrix elements ($H_{ij}$ and $S_{ij}$) third and fourth order terms of the Taylor series expansion of the Morse potential (around the minimum) in a gaussian basis.  Gaussian basis functions are given as $g_i(x) = e^{-\\alpha (x-x_i)^2}$."
   ]
  },
  {
   "cell_type": "code",
   "execution_count": 9,
   "metadata": {},
   "outputs": [],
   "source": [
    "# \"data\" for problem 1\n",
    "import numpy as np\n",
    "rng = np.random.RandomState(1)\n",
    "x = 10 * rng.rand(50) - 2\n",
    "y = 1.0/(1+np.exp(-(x-3))) + 0.05 * rng.randn(50)"
   ]
  },
  {
   "cell_type": "code",
   "execution_count": null,
   "metadata": {},
   "outputs": [],
   "source": []
  }
 ],
 "metadata": {
  "kernelspec": {
   "display_name": "Python 3",
   "language": "python",
   "name": "python3"
  },
  "language_info": {
   "codemirror_mode": {
    "name": "ipython",
    "version": 3
   },
   "file_extension": ".py",
   "mimetype": "text/x-python",
   "name": "python",
   "nbconvert_exporter": "python",
   "pygments_lexer": "ipython3",
   "version": "3.6.5"
  }
 },
 "nbformat": 4,
 "nbformat_minor": 2
}
