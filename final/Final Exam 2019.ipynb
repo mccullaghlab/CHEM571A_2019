{
 "cells": [
  {
   "cell_type": "markdown",
   "metadata": {},
   "source": [
    "# CHEM 571A Fall 2019 Final Exam"
   ]
  },
  {
   "cell_type": "markdown",
   "metadata": {},
   "source": [
    "1. Consider a three proton spin system with Hamiltonian\n",
    "\n",
    "   $\\hat{H} = -\\gamma B_0(1-\\sigma_A)\\hat{I}_{z1} -\\gamma B_0(1-\\sigma_A)\\hat{I}_{z2} -\\gamma B_0(1-\\sigma_B)\\hat{I}_{z3} + \\frac{hJ_{13}}{\\hbar^2}\\hat{I}_1\\cdot\\hat{I}_3 + \\frac{hJ_{23}}{\\hbar^2}\\hat{I}_2\\cdot\\hat{I}_3$\n",
    "\n",
    "  where spins 1 and 2 have the same chemical screening, $\\sigma_A$. Compute the frequencies of allowed transitions for this system in an NMR instrument.  Clearly state any assumptions made.  \n",
    "  \n",
    "2. The Lithium cation (Li$^+$) is a helium like ion. \n",
    "\n",
    "   a. Write down the Hamiltonian for Li$^+$ based on the helium atom Hamiltonian we used in class and explicitly define each variable.\n",
    "   \n",
    "   b. Consider the trial wavefunction, $\\psi(r_1,r_2) = \\frac{\\zeta^3}{\\pi}\\exp(-\\zeta r_1)\\exp(-\\zeta r_2)$, in the variational approach with variational parameter $\\zeta$.  Demonstrate that this trial wavefunction is normalized.\n",
    "   \n",
    "   c. In the variational approach, we consider $\\langle E \\rangle_\\psi = \\frac{\\langle \\psi | \\hat{K} | \\Psi \\rangle +\\langle \\psi | \\hat{V} | \\psi \\rangle }{\\langle \\psi|\\psi\\rangle}$.\n",
    "   \n",
    "      i. Determine $\\langle \\psi | \\hat{K} | \\psi \\rangle$ in simplified form.\n",
    "      \n",
    "      ii. Determine $\\langle \\psi | \\hat{V} | \\psi \\rangle$ in simplified form.\n",
    "      \n",
    "   d.  Determine the optimal value of $\\zeta$.  What does this imply?  What did you expect this value to be and why?\n",
    "   \n",
    "   e. Determine the variationally optimized ground-state energy of this system.  How does this compare to a non-interacting system?  How does it compare to a helium atom?\n",
    "  \n",
    "3.  Continuing with the Li$^+$ ion, let's consider an excited state of the ion.  For this we will utilized two basis functions:\n",
    "\\begin{align}\n",
    "\\psi_1(r_1,r_2) &=& \\frac{\\zeta_1^3}{\\pi}\\exp(-\\zeta_1 r_1)\\exp(-\\zeta_1 r_2) \\\\\n",
    "\\psi_2(r_1,r_2) &=& \\frac{\\zeta_2^3}{\\pi}\\exp(-\\zeta_2 r_1)\\exp(-\\zeta_2 r_2)\n",
    "\\end{align}\n",
    "with \n",
    "\\begin{align}\n",
    "\\zeta_1 &=& 2.75 \\\\\n",
    "\\zeta_2 &=& 0.75\n",
    "\\end{align}\n",
    "and express the total wave function as a linear combination of these two:\n",
    "\\begin{equation}\n",
    "\\Psi(r_1,r_2) = c_1\\psi_1(r_1,r_2) + c_2 \\psi_2(r_1,r_2)\n",
    "\\end{equation}\n",
    "  a. Compute the Hamiltonian ($\\mathbf{H}$) and overlap ($\\mathbf{S}$) matrices for the variational approach in this basis. \n",
    "  \n",
    "  b. Determine the ground state and first excited state energies in this approach.\n",
    "\n",
    "   c. Compute the transition dipole moment for the 1s(2)$\\rightarrow$1s(1)2s(1) transition in the variationally optimized wavefunctions."
   ]
  },
  {
   "cell_type": "code",
   "execution_count": null,
   "metadata": {},
   "outputs": [],
   "source": []
  }
 ],
 "metadata": {
  "kernelspec": {
   "display_name": "Python 3",
   "language": "python",
   "name": "python3"
  },
  "language_info": {
   "codemirror_mode": {
    "name": "ipython",
    "version": 3
   },
   "file_extension": ".py",
   "mimetype": "text/x-python",
   "name": "python",
   "nbconvert_exporter": "python",
   "pygments_lexer": "ipython3",
   "version": "3.6.5"
  }
 },
 "nbformat": 4,
 "nbformat_minor": 2
}
