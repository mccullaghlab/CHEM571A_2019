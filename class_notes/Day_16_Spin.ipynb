{
 "cells": [
  {
   "cell_type": "markdown",
   "metadata": {},
   "source": [
    "# Spin"
   ]
  },
  {
   "cell_type": "markdown",
   "metadata": {},
   "source": [
    "## Historical Motivation"
   ]
  },
  {
   "cell_type": "markdown",
   "metadata": {},
   "source": [
    "Despite the success of quantum theory in the early 1900s, there were still a few experiments that it could not adequately describe. The most well known example is the measurement of atomic spectrum of sodium.  There is a doublet splitting in yellow line of this spectrum that cannot be explained by the spatial and energetic quantum theories presented thus far.  \n",
    "\n",
    "\n",
    "In 1925, two physcists, George Uhlenbeck and Samuel Goudsmit, demonstrated that by assigning spin to an electron they could achieve the splitting seen in the experimental spectrum.  This amounts to the introduction of a spin quantum numer, $m_s$, for each electron that can take on values of $\\pm 1/2$.  "
   ]
  },
  {
   "cell_type": "markdown",
   "metadata": {},
   "source": [
    "## Basic ideas"
   ]
  },
  {
   "cell_type": "markdown",
   "metadata": {},
   "source": [
    "Quantum particles have intrinsic spin. Spin of particles is a strictly quantum mechanical concept.  There is no classical analog.  \n",
    "\n",
    "We will treat spin as completely independent of spatial dimensions.  Namely, we can express the wavefunction as\n",
    "\n",
    "$\\Psi(x,y,z,\\sigma) = \\psi(x,y,z)\\alpha(\\sigma)$\n",
    "\n",
    "or \n",
    "\n",
    "$\\Psi(x,y,z,\\sigma) = \\psi(x,y,z)\\beta(\\sigma)$,\n",
    "\n",
    "where $\\sigma$ is the *spin variable* and $\\alpha(\\sigma)$ and $\\beta(\\sigma)$ are the spin eigenfunctions.  In the case of electronic structure, $\\Psi(x,y,z,\\sigma)$ expressed in this way are referred to a *spin orbits*.  \n",
    "\n",
    "We define spin operators $\\hat{S}^2$ and $\\hat{S}_z$ that have eigenfunctions $\\alpha(\\sigma)$ and $\\beta(\\sigma)$ by\n",
    "\n",
    "$\\hat{S}^2\\alpha = \\frac{1}{2}\\left(\\frac{1}{2}+1\\right)\\hbar^2\\alpha$\n",
    "\n",
    "$\\hat{S}^2\\beta = \\frac{1}{2}\\left(\\frac{1}{2}+1\\right)\\hbar^2\\beta$\n",
    "\n",
    "and \n",
    "\n",
    "$\\hat{S}_z\\alpha = \\frac{1}{2}\\hbar\\alpha$\n",
    "\n",
    "$\\hat{S}_z\\beta = -\\frac{1}{2}\\hbar\\beta$."
   ]
  },
  {
   "cell_type": "markdown",
   "metadata": {},
   "source": [
    "Spin eigenfunctions have some important properties.   Firstly, they must be normalized\n",
    "\n",
    "$\\int\\alpha^*(\\sigma)\\alpha(\\sigma)d\\sigma = \\int\\beta^*(\\sigma)\\beta(\\sigma) d\\sigma = 1$.\n",
    "\n",
    "Secondly, they must be orthogonal\n",
    "\n",
    "$\\int\\alpha^*(\\sigma)\\beta(\\sigma)d\\sigma = \\int\\beta^*(\\sigma)\\alpha(\\sigma) d\\sigma = 0$."
   ]
  },
  {
   "cell_type": "markdown",
   "metadata": {},
   "source": [
    "Note that this formalism for spin does not negate previous results.  For Hamiltonians that do not include any interaction with $\\sigma$, it can be shown that the results are the same as previous. Let's investigate this for a partice in a box where\n",
    "\n",
    "$\\hat{H} = -\\frac{\\hbar^2}{2m}\\frac{d^2}{dx^2}$.\n",
    "\n",
    "Not that $\\hat{H}$ is independent of $\\sigma$.  Let's see how this operates on the combined spatial and spin wavefunction\n",
    "\n",
    "$\\Psi(x,\\sigma) = \\psi(x)\\alpha(\\sigma)$.  \n",
    "\n",
    "We now plug into the Schrodinger equation\n",
    "\n",
    "$-\\frac{\\hbar^2}{2m}\\frac{d^2}{dx^2}\\Psi(x,\\sigma) = E \\Psi(x,\\sigma) $\n",
    "\n",
    "$-\\frac{\\hbar^2}{2m}\\frac{d^2}{dx^2}\\psi(x)\\alpha(\\sigma) = E \\psi(x)\\alpha(\\sigma)$\n",
    "\n",
    "$ = -\\alpha(\\sigma)\\frac{\\hbar^2}{2m}\\frac{d^2}{dx^2}\\psi(x)$\n",
    "\n",
    "$\\Rightarrow -\\frac{\\hbar^2}{2m}\\frac{d^2}{dx^2}\\psi(x) = E\\psi(x)$.\n",
    "\n",
    "Similarly, for the general expectation value of an operator that does not depend on $\\alpha$, $\\hat{M}(x)$, we have\n",
    "\n",
    "$\\langle M(x) \\rangle = \\int \\Psi^*(x,\\sigma) \\hat{M}(x) \\Psi(x,\\sigma) dxd\\sigma $\n",
    "\n",
    "$ = \\int \\psi^*(x)\\alpha^*(\\sigma) \\hat{M}(x) \\psi(x)\\alpha(\\sigma)dxd\\sigma$\n",
    "\n",
    "$ = \\int \\psi^*(x) \\hat{M}(x) \\psi(x)dx\\int\\alpha^*(\\sigma)\\alpha(\\sigma)d\\sigma $\n",
    "\n",
    "$ = \\int \\psi^*(x) \\hat{M}(x) \\psi(x)dx$.\n",
    "\n",
    "The last equality holds due to $\\alpha(\\sigma)$ being normalized.  Note that you can substitute $\\beta$ in for $\\alpha$ and obtain the same result.  If you tried to compute the overlap between a spin orbit with $\\alpha$ and a spin orbit with $\\beta$ you would get zero.  "
   ]
  },
  {
   "cell_type": "markdown",
   "metadata": {},
   "source": [
    "## Relationship between magnetic moment and angular momentum"
   ]
  },
  {
   "cell_type": "markdown",
   "metadata": {},
   "source": [
    "Motion of an electric charge around a closed loop produces a magnetic dipole, $\\mathbf{\\mu}$, whose magnitude is given by\n",
    "\n",
    "$\\mu = iA$,\n",
    "\n",
    "where $i$ is the current in amperes and $A$ is the area of the loop.  If we condiser a circular loop, we have \n",
    "\n",
    "$i=\\frac{qv}{2\\pi r}$\n",
    "\n",
    "where $v$ is the velocity of charge $q$ and $r$ is the radius of the circle.  Substituting this into th magnetic dipole magnitude equation above and noting that for a circle $A=\\pi r^2$ we get\n",
    "\n",
    "$\\mu = \\frac{qrv}{2}$.\n",
    "\n",
    "It can be shown that for a non-circular charge orbit, the magnetic dipole is given as\n",
    "\n",
    "$\\mathbf{\\mu} = \\frac{q(\\mathbf{r}\\times\\mathbf{v})}{2}.$\n",
    "\n",
    "This equation demonstrates that $\\mu$ is perpendicular to the plane formed by $\\mathbf{r}$ and $\\mathbf{v}$ (the plane of motion).  \n",
    "\n",
    "We now want to put these equations in terms of angular momentum, $\\mathbf{L}$.  Recall that $\\mathbf{L}=\\mathbf{r}\\times\\mathbf{p}$ where $\\mathbf{p}=m\\mathbf{v}$ is the linear momentum and $\\mathbf{v}$ is the linear velocity.  So we see that we can express the magnetic moment as \n",
    "\n",
    "$\\mathbf{\\mu} = \\frac{q}{2m}\\mathbf{L}$.\n",
    "\n",
    "The phenomenon we now call *spin* of a quantum particle is an explanation of its interaction with a magnetic field.  Said slightly differently, the phenomenon known as *spin* yields a magnetic dipole moment of the quantum particle.  This implies that the phenomenon must have a angular momentum and thus it is called spin."
   ]
  },
  {
   "cell_type": "markdown",
   "metadata": {},
   "source": [
    "## Pauli Exclusion Principle"
   ]
  },
  {
   "cell_type": "markdown",
   "metadata": {},
   "source": [
    "Recall from undergraduate physical and general chemistry the statement that two electrons cannot occupy the same spin-orbital.  This necessitates the use of a spin orbit.  As we know, two electrons can occupy the same spatial orbital but must have opposite spin.  For a hydrogen-like wavefunction description of a helium atom this can be described as\n",
    "\n",
    "$\\psi(1,2) = 1s\\alpha(1)1s\\beta(2)$,\n",
    "\n",
    "where $1s$ denotes the hydrogen-like 1s spatial orbital and $\\alpha(1)$ denotes the $\\alpha$ spin of electron 1 while $\\beta(2)$ denotes the $\\beta$ spin of electron 2.  Since electrons are indistinguishable, we could equivalently write\n",
    "\n",
    "$\\psi(2,1) = 1s\\alpha(2)1s\\beta(1)$.\n",
    "\n",
    "As we have seen so far, if we have two functions that seemingly obey the Schrodinger equation for a particular system, the complete solution should be a linear combination of these functions.  We can construct two linear combinations of these\n",
    "\n",
    "$\\Psi_1(1,2) = \\psi(1,2) + \\psi(2,1) = 1s\\alpha(1)1s\\beta(2) + 1s\\alpha(2)1s\\beta(1)$\n",
    "\n",
    "and \n",
    "\n",
    "$\\Psi_2(1,2) = \\psi(1,2) - \\psi(2,1) = 1s\\alpha(1)1s\\beta(2) - 1s\\alpha(2)1s\\beta(1)$.\n",
    "\n",
    "These two functions describe states in which there are two indistinguishable electrons.  Note that there is a distinct difference between these two in regards to the interchange of electrons\n",
    "\n",
    "$\\Psi_1(1,2) = \\Psi_1(2,1)$\n",
    "\n",
    "and \n",
    "\n",
    "$\\Psi_2(1,2) = -\\Psi_2(2,1)$.\n",
    "\n",
    "We say that $\\Psi_2$ is *antisymmetric* with respect to interchange of electrons.  This turns out to be the requirement for all electronic wavefunctions and is equivalent to the Pauli Exclusion principle.  "
   ]
  },
  {
   "cell_type": "markdown",
   "metadata": {},
   "source": [
    "**Postulate 6**\n",
    "\n",
    "*All electronic wavefunctions must be antisymmetric under the interchange of any two electrons*"
   ]
  },
  {
   "cell_type": "markdown",
   "metadata": {},
   "source": [
    "## Atomic Nuclei have Spin"
   ]
  },
  {
   "cell_type": "code",
   "execution_count": null,
   "metadata": {},
   "outputs": [],
   "source": []
  }
 ],
 "metadata": {
  "kernelspec": {
   "display_name": "Python 3",
   "language": "python",
   "name": "python3"
  },
  "language_info": {
   "codemirror_mode": {
    "name": "ipython",
    "version": 3
   },
   "file_extension": ".py",
   "mimetype": "text/x-python",
   "name": "python",
   "nbconvert_exporter": "python",
   "pygments_lexer": "ipython3",
   "version": "3.6.5"
  }
 },
 "nbformat": 4,
 "nbformat_minor": 2
}
