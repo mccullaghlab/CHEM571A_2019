{
 "cells": [
  {
   "cell_type": "markdown",
   "metadata": {},
   "source": [
    "# Advanced Jupyter Notebook Tutorial"
   ]
  },
  {
   "cell_type": "markdown",
   "metadata": {},
   "source": [
    "Today we will cover some more advanced math concepts in Jupyter notebooks.  Namely, we will discuss\n",
    "1. Integration\n",
    "\n",
    "    This includes a discussion of analtytic vs numeric integration and integral tables.\n",
    "    \n",
    "    \n",
    "2. Matrix manipulations\n",
    "\n",
    "    Eigenvalue/eigenvector problems etc.\n",
    "       \n"
   ]
  },
  {
   "cell_type": "markdown",
   "metadata": {},
   "source": [
    "## Integration"
   ]
  },
  {
   "cell_type": "markdown",
   "metadata": {},
   "source": [
    "### Indefinite integration"
   ]
  },
  {
   "cell_type": "markdown",
   "metadata": {},
   "source": [
    "Consider $f(x) = \\int x^2 dx$, can we write $f(x)$ in a different way?  Sure, if we know the antiderivative of the integrand we can write out f(x) as the indefinite integral.  Namely, $f(x) = \\int x^2 dx = \\frac{x^3}{3} + C$ for arbitrary constant $C$."
   ]
  },
  {
   "cell_type": "markdown",
   "metadata": {},
   "source": [
    "What are the indefinite integrals of the following\n",
    "\n",
    "1. $\\int x^3 dx$\n",
    "2. $\\int e^{x} dx$\n",
    "3. $\\int (x^4 + 4x) dx$\n",
    "4. $\\int \\frac{1}{x} dx$"
   ]
  },
  {
   "cell_type": "markdown",
   "metadata": {},
   "source": [
    "Coding does not help with indefinite integration.  These need to be derived analytically.  Some common indefinite integrals are tabulated here: http://integral-table.com/"
   ]
  },
  {
   "cell_type": "markdown",
   "metadata": {},
   "source": [
    "### Definite integration"
   ]
  },
  {
   "cell_type": "markdown",
   "metadata": {},
   "source": [
    "Definite integration is when we want to evaluate the integral of a function (integrand) over a finite domain.  E.g. $\\int_0^4 x^2dx$.  If the domain is static (i.e. $0$ to $4$ instead of $0$ to $y$) and integration is performed over all variables in the integrand, then the result of a definite integral will be a number (as opposed to a function of x in the case of indefinite integrals).  This may all sound esoteric so let's consider some examples."
   ]
  },
  {
   "cell_type": "markdown",
   "metadata": {},
   "source": [
    "1. $\\int_0^4 x^2 dx$\n",
    "\n",
    "    $ = \\left[ \\frac{x^3}{3} + C\\right]_0^4$   In this step I replace $\\int x^2 dx$ with the indefinite integral \n",
    "    \n",
    "    $ = \\left[\\frac{4^3}{3} + C\\right] - \\left[\\frac{0^3}{3} + C\\right] $  Evaluate the indefinite integral at the limits\n",
    "    \n",
    "    $ = \\frac{64}{3} + C - 0 - C$  Algebra\n",
    "    \n",
    "    $ = \\frac{64}{3}$"
   ]
  },
  {
   "cell_type": "markdown",
   "metadata": {},
   "source": [
    "Notice that the arbitrary constant, $C$, cancels out when you subtract the value of the indefinite integral at the lower bound from that at the upper bound.  This holds true in general thus we typically don't include the arbitrary constant when evaluating the indefinite integral at the bounds of integration.  Let's do another example:"
   ]
  },
  {
   "cell_type": "markdown",
   "metadata": {},
   "source": [
    "1. $\\int_0^4 x^2 dx$\n",
    "\n",
    "    $ = \\left[ \\frac{x^3}{3} + C\\right]_0^4$   In this step I replace $\\int x^2 dx$ with the indefinite integral \n",
    "    \n",
    "    $ = \\left[\\frac{4^3}{3} + C\\right] - \\left[\\frac{0^3}{3} + C\\right] $  Evaluate the indefinite integral at the limits\n",
    "    \n",
    "    $ = \\frac{64}{3} + C - 0 - C$  Algebra\n",
    "    \n",
    "    $ = \\frac{64}{3}$"
   ]
  },
  {
   "cell_type": "code",
   "execution_count": 11,
   "metadata": {},
   "outputs": [
    {
     "data": {
      "text/plain": [
       "21.333333333333332"
      ]
     },
     "execution_count": 11,
     "metadata": {},
     "output_type": "execute_result"
    }
   ],
   "source": [
    "64/3."
   ]
  },
  {
   "cell_type": "markdown",
   "metadata": {},
   "source": [
    "### Numeric Definite Integration"
   ]
  },
  {
   "cell_type": "markdown",
   "metadata": {},
   "source": [
    "Numeric integration can only be used for definite integrals.  It is a way of approximating the analytic solution and good approaches to this will converge to that solution in certain limits.  The most common example of this is rectangular integration (or the midpoint rule).  For this method, we approximate the area under a curve as the sum of the areas of abutting rectangles that are the height of the function at the midpoint of the rectangle.  These rectangles are of a specified width and the value of the summation converges to the real solution as the width of the rectangles decrease."
   ]
  },
  {
   "cell_type": "code",
   "execution_count": 5,
   "metadata": {},
   "outputs": [
    {
     "data": {
      "text/plain": [
       "<BarContainer object of 16 artists>"
      ]
     },
     "execution_count": 5,
     "metadata": {},
     "output_type": "execute_result"
    },
    {
     "data": {
      "image/png": "[encoded data removed]",
      "text/plain": [
       "<Figure size 432x288 with 1 Axes>"
      ]
     },
     "metadata": {},
     "output_type": "display_data"
    }
   ],
   "source": [
    "import numpy as np\n",
    "import matplotlib.pyplot as plt\n",
    "%matplotlib inline\n",
    "\n",
    "x = np.arange(0,6,0.1)\n",
    "xInt = np.arange(0.125,4,0.25)\n",
    "plt.plot(x,np.power(x,2))\n",
    "plt.bar(xInt,np.power(xInt,2),0.25)"
   ]
  },
  {
   "cell_type": "markdown",
   "metadata": {},
   "source": [
    "We can compute the sum of these areas using a for loop in python."
   ]
  },
  {
   "cell_type": "code",
   "execution_count": 14,
   "metadata": {},
   "outputs": [
    {
     "name": "stdout",
     "output_type": "stream",
     "text": [
      "Number of rectangles: 16\n"
     ]
    }
   ],
   "source": [
    "rectangleSum = 0.0\n",
    "rectangleWidth = 0.25\n",
    "minX = 0.00\n",
    "maxX = 4.00\n",
    "nRectangles = int( (maxX-minX)/rectangleWidth )\n",
    "print(\"Number of rectangles:\", nRectangles)"
   ]
  },
  {
   "cell_type": "code",
   "execution_count": 13,
   "metadata": {},
   "outputs": [
    {
     "name": "stdout",
     "output_type": "stream",
     "text": [
      "21.330000000000005\n"
     ]
    }
   ],
   "source": [
    "rectangleSum = 0.0\n",
    "for i in range(nRectangles):\n",
    "    areaOfRectangle =  rectangleWidth * (minX + (i+0.5)*rectangleWidth)**2\n",
    "    rectangleSum += areaOfRectangle\n",
    "print(rectangleSum)"
   ]
  },
  {
   "cell_type": "markdown",
   "metadata": {},
   "source": [
    "There are a vareity of other, more accurate, numerical integration techniques including the trapezoid rule, Simpson's rule and Gaussian quadrature. We will not go into these in detail.  Instead we will use scipy packages for these."
   ]
  },
  {
   "cell_type": "code",
   "execution_count": 26,
   "metadata": {},
   "outputs": [
    {
     "name": "stdout",
     "output_type": "stream",
     "text": [
      "Trapezoid rule: 21.25349974999999\n",
      "Simpson's rule: 21.253433416666653\n",
      "Gaussian quadrature : 21.333333333333336\n"
     ]
    }
   ],
   "source": [
    "from scipy import integrate\n",
    "def f(x):\n",
    "    return x*x\n",
    "dx = 0.01\n",
    "xInt = np.arange(0.5*dx,4,dx)\n",
    "print(\"Trapezoid rule:\",integrate.trapz(np.power(xInt,2),x=xInt))\n",
    "print(\"Simpson's rule:\",integrate.simps(np.power(xInt,2),x=xInt))\n",
    "print(\"Gaussian quadrature :\",integrate.quad(f,0,4)[0])"
   ]
  },
  {
   "cell_type": "markdown",
   "metadata": {},
   "source": [
    "## More on Matrices"
   ]
  },
  {
   "cell_type": "code",
   "execution_count": 3,
   "metadata": {},
   "outputs": [],
   "source": [
    "# in this code cell we will import numpy\n",
    "import numpy as np"
   ]
  },
  {
   "cell_type": "code",
   "execution_count": 48,
   "metadata": {},
   "outputs": [
    {
     "name": "stdout",
     "output_type": "stream",
     "text": [
      "[[1 2]\n",
      " [3 4]]\n",
      "('shape of a:', (2, 2))\n",
      "('size of a:', 4)\n",
      "('data type of a:', dtype('int64'), 'data type of b:', dtype('float64'))\n",
      "('a.T=', matrix([[1, 3],\n",
      "        [2, 4]]))\n"
     ]
    }
   ],
   "source": [
    "# defining a matrix - these are just 2D arrays\n",
    "a = np.matrix([[1,2],[3,4]])\n",
    "b = np.matrix([[1,2],[3,4]],dtype=float)\n",
    "print(a)\n",
    "print(\"shape of a:\",a.shape)\n",
    "print(\"size of a:\",a.size)\n",
    "print(\"data type of a:\", a.dtype, \"data type of b:\", b.dtype)\n",
    "print(\"a.T=\",a.T)"
   ]
  },
  {
   "cell_type": "code",
   "execution_count": 58,
   "metadata": {},
   "outputs": [
    {
     "name": "stdout",
     "output_type": "stream",
     "text": [
      "[[ 5.  6.]\n",
      " [-1.  0.]]\n",
      "('b*c=', matrix([[ 3.,  6.],\n",
      "        [11., 18.]]))\n",
      "('b*c=', matrix([[ 3.,  6.],\n",
      "        [11., 18.]]))\n",
      "('b*cT=', matrix([[17., -1.],\n",
      "        [39., -3.]]))\n"
     ]
    }
   ],
   "source": [
    "# manipulating matrices\n",
    "c = np.matrix([[5,6],[-1,0]],dtype=float)\n",
    "print(c)\n",
    "print(\"b*c=\",b*c)\n",
    "print(\"b*c=\",np.dot(b,c))\n",
    "print(\"b*cT=\",np.dot(b,c.T))"
   ]
  },
  {
   "cell_type": "code",
   "execution_count": 8,
   "metadata": {},
   "outputs": [],
   "source": [
    "# elements in a matrix"
   ]
  }
 ],
 "metadata": {
  "kernelspec": {
   "display_name": "Python 3",
   "language": "python",
   "name": "python3"
  },
  "language_info": {
   "codemirror_mode": {
    "name": "ipython",
    "version": 3
   },
   "file_extension": ".py",
   "mimetype": "text/x-python",
   "name": "python",
   "nbconvert_exporter": "python",
   "pygments_lexer": "ipython3",
   "version": "3.6.5"
  }
 },
 "nbformat": 4,
 "nbformat_minor": 2
}
