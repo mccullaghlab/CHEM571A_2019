{
 "cells": [
  {
   "cell_type": "markdown",
   "metadata": {},
   "source": [
    "# Jupyter Notebook Tutorial"
   ]
  },
  {
   "cell_type": "markdown",
   "metadata": {},
   "source": [
    "Jupyter notebook is a collection of cells.  These cells can be one of three main types:\n",
    "1. Code\n",
    "\n",
    "    This includes executable code (usually python).  You can have different snippets of code in different cells.\n",
    "    \n",
    "2. Markdown\n",
    "\n",
    "    This is text with some formatting including numbered lists etc.  The current cell is an example.  You can google the text formatting syntax if interested.  Markdown also allows you to do headers by starting the cell with # (main header), ## (sub header), or ### (sub-sub header).  I use these in this and other notebooks.\n",
    "       \n",
    "3. Raw\n",
    "\n",
    "    Literally prints what you type.  Looks like code.  Is often used to convey code without it being executable.\n",
    "    \n",
    "    \n",
    "The cell type must be selected from dropdown menu in toolbar above."
   ]
  },
  {
   "cell_type": "markdown",
   "metadata": {},
   "source": [
    "You can edit a cell by clicking or double clicking on it and simply deleting and/or typing."
   ]
  },
  {
   "cell_type": "markdown",
   "metadata": {},
   "source": [
    "You execute markdown and code cells by hitting shift+enter.  Once you have edited a cell it must be run again for edits to take place"
   ]
  },
  {
   "cell_type": "raw",
   "metadata": {},
   "source": [
    "This is an example of a Raw cell.  Raw cells do not get executed."
   ]
  },
  {
   "cell_type": "markdown",
   "metadata": {},
   "source": [
    "Today we will go through basics of coding in code cells as well as using matplotlib for plotting."
   ]
  },
  {
   "cell_type": "markdown",
   "metadata": {},
   "source": [
    "## Code Cells (python)"
   ]
  },
  {
   "cell_type": "markdown",
   "metadata": {},
   "source": [
    "### Basics"
   ]
  },
  {
   "cell_type": "code",
   "execution_count": 2,
   "metadata": {},
   "outputs": [
    {
     "name": "stdout",
     "output_type": "stream",
     "text": [
      "3\n"
     ]
    }
   ],
   "source": [
    "# assigning a variable\n",
    "a = 3\n",
    "print(a)"
   ]
  },
  {
   "cell_type": "code",
   "execution_count": 3,
   "metadata": {},
   "outputs": [
    {
     "name": "stdout",
     "output_type": "stream",
     "text": [
      "6\n",
      "6\n"
     ]
    }
   ],
   "source": [
    "# addition\n",
    "# first we will just print the value 6 by adding 3 to a and printing.  \n",
    "# Note that the value of three is still stored in variable 'a' from above\n",
    "print(a+3)\n",
    "# we did not save the value 6 to any variable.  We will now save that value into b and print (should get same result)\n",
    "b = a+3\n",
    "print(b)"
   ]
  },
  {
   "cell_type": "code",
   "execution_count": 4,
   "metadata": {},
   "outputs": [
    {
     "name": "stdout",
     "output_type": "stream",
     "text": [
      "3 6\n"
     ]
    }
   ],
   "source": [
    "# note that variables previously defined in cells above will save their values in subsequent cells \n",
    "#(as long as cells above have been run)\n",
    "print(a,b)"
   ]
  },
  {
   "cell_type": "code",
   "execution_count": 5,
   "metadata": {},
   "outputs": [
    {
     "name": "stdout",
     "output_type": "stream",
     "text": [
      "12\n",
      "12\n",
      "-1\n",
      "-1\n"
     ]
    }
   ],
   "source": [
    "# Subtraction and multiplication are similar to addition\n",
    "print(3*4)\n",
    "a = 3*4\n",
    "print(a)\n",
    "print(3-4)\n",
    "a = 3-4\n",
    "print(a)"
   ]
  },
  {
   "cell_type": "code",
   "execution_count": 8,
   "metadata": {},
   "outputs": [
    {
     "name": "stdout",
     "output_type": "stream",
     "text": [
      "0\n",
      "0.75\n"
     ]
    }
   ],
   "source": [
    "# division is only slightly more challenging.  The division performed depends on the type of number (i.e. integer or real)\n",
    "print(3//4)\n",
    "print(3.0/4.0)"
   ]
  },
  {
   "cell_type": "markdown",
   "metadata": {},
   "source": [
    "### Data types"
   ]
  },
  {
   "cell_type": "markdown",
   "metadata": {},
   "source": [
    "As was pointed out in the division code cell above, there are different data types in python (and other) programming languages.  There are five main data types: integers, floats, complex, strings, and boolean.  Of these, the three number types (integer, float and complex) will be the most relevant for us."
   ]
  },
  {
   "cell_type": "markdown",
   "metadata": {},
   "source": [
    "Integers are exactly what they sound like.  These are used in a variety of ways and will come up frequently.  A couple of things to keep in mind: (1) integer division is different than float (/real number) division and (2) array indeces must be integers.  Integer division gives the integer number of the quotient (truncation).  In the case of 3/4, the answer should be 0.75 but integer division yields 0 because it truncates 0.75 to 0.  What do you think 5/4 would be?  ... try it."
   ]
  },
  {
   "cell_type": "code",
   "execution_count": 9,
   "metadata": {},
   "outputs": [
    {
     "name": "stdout",
     "output_type": "stream",
     "text": [
      "<class 'int'>\n"
     ]
    }
   ],
   "source": [
    "# assign an integer to a variable - the variable will now have int data type\n",
    "a = 5\n",
    "print(type(a))"
   ]
  },
  {
   "cell_type": "markdown",
   "metadata": {},
   "source": [
    "Floats are real numbers.  Float division is what you would expect."
   ]
  },
  {
   "cell_type": "code",
   "execution_count": 10,
   "metadata": {},
   "outputs": [
    {
     "name": "stdout",
     "output_type": "stream",
     "text": [
      "<class 'float'>\n"
     ]
    }
   ],
   "source": [
    "# assign a float to a variable - the variable will now have float data type\n",
    "a = float(5)\n",
    "print(type(a))"
   ]
  },
  {
   "cell_type": "markdown",
   "metadata": {},
   "source": [
    "Complex numbers are exactly what they sound like."
   ]
  },
  {
   "cell_type": "code",
   "execution_count": 11,
   "metadata": {},
   "outputs": [
    {
     "name": "stdout",
     "output_type": "stream",
     "text": [
      "<class 'complex'>\n"
     ]
    }
   ],
   "source": [
    "# assign a complext to a variable (use j instead of i and don't use * separator) - the variable will now have complex data type\n",
    "j=2\n",
    "a = 5.0+3j\n",
    "print(type(a))"
   ]
  },
  {
   "cell_type": "markdown",
   "metadata": {},
   "source": [
    "### Operations"
   ]
  },
  {
   "cell_type": "markdown",
   "metadata": {},
   "source": [
    "In addition to addition, subtraction, multiplication and division there are some other operations that are commonly used in coding.  These include the remainder (or modulus) operation, %, and the add (subtract, divide, or multiply) by operation.  I will demonstrate these in code snippets."
   ]
  },
  {
   "cell_type": "code",
   "execution_count": 27,
   "metadata": {},
   "outputs": [
    {
     "name": "stdout",
     "output_type": "stream",
     "text": [
      "('1 divided by 4 is', 0, ' remainder ', 1)\n",
      "('2 divided by 4 is', 0, ' remainder ', 2)\n",
      "('3 divided by 4 is', 0, ' remainder ', 3)\n",
      "('4 divided by 4 is', 1, ' remainder ', 0)\n",
      "('5 divided by 4 is', 1, ' remainder ', 1)\n",
      "('6 divided by 4 is', 1, ' remainder ', 2)\n",
      "('7 divided by 4 is', 1, ' remainder ', 3)\n",
      "('8 divided by 4 is', 2, ' remainder ', 0)\n"
     ]
    }
   ],
   "source": [
    "# remainder operation is %\n",
    "# I will do 1 to 8 divided (integer division) by four and then compute the remained\n",
    "print(\"1 divided by 4 is\", 1/4, \" remainder \", 1%4)\n",
    "print(\"2 divided by 4 is\", 2/4, \" remainder \", 2%4)\n",
    "print(\"3 divided by 4 is\", 3/4, \" remainder \", 3%4)\n",
    "print(\"4 divided by 4 is\", 4/4, \" remainder \", 4%4)\n",
    "print(\"5 divided by 4 is\", 5/4, \" remainder \", 5%4)\n",
    "print(\"6 divided by 4 is\", 6/4, \" remainder \", 6%4)\n",
    "print(\"7 divided by 4 is\", 7/4, \" remainder \", 7%4)\n",
    "print(\"8 divided by 4 is\", 8/4, \" remainder \", 8%4)"
   ]
  },
  {
   "cell_type": "code",
   "execution_count": 28,
   "metadata": {},
   "outputs": [
    {
     "name": "stdout",
     "output_type": "stream",
     "text": [
      "('a=', 4)\n",
      "('a=', 6)\n"
     ]
    }
   ],
   "source": [
    "# the add to or multiply by operation\n",
    "# start by assigning a variable\n",
    "a = 4\n",
    "print(\"a=\",a)\n",
    "# now add two to a:\n",
    "a = a + 2\n",
    "print(\"a=\",a)"
   ]
  },
  {
   "cell_type": "code",
   "execution_count": 29,
   "metadata": {},
   "outputs": [
    {
     "name": "stdout",
     "output_type": "stream",
     "text": [
      "('a=', 4)\n",
      "('a=', 6)\n"
     ]
    }
   ],
   "source": [
    "# This operation can be achieved using a shorthand of +=\n",
    "a = 4\n",
    "print(\"a=\",a)\n",
    "# now add two to a:\n",
    "a += 2\n",
    "print(\"a=\",a)"
   ]
  },
  {
   "cell_type": "markdown",
   "metadata": {},
   "source": [
    "### Vectors and matrices"
   ]
  },
  {
   "cell_type": "markdown",
   "metadata": {},
   "source": [
    "The next math concepts to understand how to perform in code are vectors and matrices.  Python is a very common coding language and is actively developed in a variety of areas.  As such it has a number of ''libraries'' or bits of code to do common things that are already written.  If we import those libraries we can utilize these functions.  The most common example it the numpy library (http://www.numpy.org/).  This library contains a lot of functions to perform vector, matrix and other common mathematical manipulations. The first step is to import numpy. "
   ]
  },
  {
   "cell_type": "code",
   "execution_count": 3,
   "metadata": {},
   "outputs": [],
   "source": [
    "# in this code cell we will import numpy\n",
    "import numpy as np"
   ]
  },
  {
   "cell_type": "code",
   "execution_count": 30,
   "metadata": {},
   "outputs": [
    {
     "name": "stdout",
     "output_type": "stream",
     "text": [
      "[2 3 1]\n"
     ]
    }
   ],
   "source": [
    "# defining an array/vector\n",
    "a = np.array([2,3,1])\n",
    "print(a)"
   ]
  },
  {
   "cell_type": "code",
   "execution_count": 34,
   "metadata": {},
   "outputs": [
    {
     "name": "stdout",
     "output_type": "stream",
     "text": [
      "('Size of array a:', 3)\n",
      "('Data type of array a:', dtype('int64'))\n",
      "('Tranpose of array a:', array([2, 3, 1]))\n"
     ]
    }
   ],
   "source": [
    "# vectors have some attributes that might be of interest\n",
    "print(\"Size of array a:\", a.size)\n",
    "print(\"Data type of array a:\", a.dtype)"
   ]
  },
  {
   "cell_type": "markdown",
   "metadata": {},
   "source": [
    "For a list of all attributes of arrays see: https://docs.scipy.org/doc/numpy-1.13.0/reference/generated/numpy.ndarray.html"
   ]
  },
  {
   "cell_type": "code",
   "execution_count": 43,
   "metadata": {},
   "outputs": [
    {
     "name": "stdout",
     "output_type": "stream",
     "text": [
      "('a=', array([2, 3, 1]))\n",
      "('b=', array([-1,  0,  7]))\n",
      "('a+b=', array([1, 3, 8]))\n",
      "('2a+3b=', array([ 1,  6, 23]))\n",
      "('a*b=', array([-2,  0,  7]))\n",
      "('a*b=', 5)\n",
      "('a x b =', array([ 21, -15,   3]))\n"
     ]
    }
   ],
   "source": [
    "# vector manipulations\n",
    "# for this I start by defining another vector in R3:\n",
    "b = np.array([-1,0,7])\n",
    "print(\"a=\",a)\n",
    "print(\"b=\",b)\n",
    "print(\"a+b=\",a+b)\n",
    "print(\"2a+3b=\",2*a+3*b)\n",
    "print(\"a*b=\",a*b)\n",
    "print(\"a*b=\",np.dot(a,b))\n",
    "# what are the differences between the last two lines?\n",
    "print(\"a x b =\",np.cross(a,b))"
   ]
  },
  {
   "cell_type": "code",
   "execution_count": 48,
   "metadata": {},
   "outputs": [
    {
     "name": "stdout",
     "output_type": "stream",
     "text": [
      "[[1 2]\n",
      " [3 4]]\n",
      "('shape of a:', (2, 2))\n",
      "('size of a:', 4)\n",
      "('data type of a:', dtype('int64'), 'data type of b:', dtype('float64'))\n",
      "('a.T=', matrix([[1, 3],\n",
      "        [2, 4]]))\n"
     ]
    }
   ],
   "source": [
    "# defining a matrix - these are just 2D arrays\n",
    "a = np.matrix([[1,2],[3,4]])\n",
    "b = np.matrix([[1,2],[3,4]],dtype=float)\n",
    "print(a)\n",
    "print(\"shape of a:\",a.shape)\n",
    "print(\"size of a:\",a.size)\n",
    "print(\"data type of a:\", a.dtype, \"data type of b:\", b.dtype)\n",
    "print(\"a.T=\",a.T)"
   ]
  },
  {
   "cell_type": "code",
   "execution_count": 58,
   "metadata": {},
   "outputs": [
    {
     "name": "stdout",
     "output_type": "stream",
     "text": [
      "[[ 5.  6.]\n",
      " [-1.  0.]]\n",
      "('b*c=', matrix([[ 3.,  6.],\n",
      "        [11., 18.]]))\n",
      "('b*c=', matrix([[ 3.,  6.],\n",
      "        [11., 18.]]))\n",
      "('b*cT=', matrix([[17., -1.],\n",
      "        [39., -3.]]))\n"
     ]
    }
   ],
   "source": [
    "# manipulating matrices\n",
    "c = np.matrix([[5,6],[-1,0]],dtype=float)\n",
    "print(c)\n",
    "print(\"b*c=\",b*c)\n",
    "print(\"b*c=\",np.dot(b,c))\n",
    "print(\"b*cT=\",np.dot(b,c.T))"
   ]
  },
  {
   "cell_type": "code",
   "execution_count": 8,
   "metadata": {},
   "outputs": [],
   "source": [
    "# elements in a matrix"
   ]
  },
  {
   "cell_type": "markdown",
   "metadata": {},
   "source": [
    "## Plotting using matplotlib"
   ]
  },
  {
   "cell_type": "markdown",
   "metadata": {},
   "source": []
  },
  {
   "cell_type": "code",
   "execution_count": null,
   "metadata": {},
   "outputs": [],
   "source": []
  }
 ],
 "metadata": {
  "kernelspec": {
   "display_name": "Python 3",
   "language": "python",
   "name": "python3"
  },
  "language_info": {
   "codemirror_mode": {
    "name": "ipython",
    "version": 3
   },
   "file_extension": ".py",
   "mimetype": "text/x-python",
   "name": "python",
   "nbconvert_exporter": "python",
   "pygments_lexer": "ipython3",
   "version": "3.7.1"
  }
 },
 "nbformat": 4,
 "nbformat_minor": 2
}
