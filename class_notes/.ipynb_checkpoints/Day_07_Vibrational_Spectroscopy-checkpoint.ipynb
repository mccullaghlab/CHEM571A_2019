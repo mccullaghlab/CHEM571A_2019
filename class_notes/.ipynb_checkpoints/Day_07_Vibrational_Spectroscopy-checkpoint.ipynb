{
 "cells": [
  {
   "cell_type": "markdown",
   "metadata": {},
   "source": [
    "# Vibrational Spectroscopy"
   ]
  },
  {
   "cell_type": "markdown",
   "metadata": {},
   "source": [
    "In order to probe the vibrations of a molecule using experiment, we must shine a light on the molecule.  Light produces an electromagnetic field, $\\mathbf{E}$, which can be approximatly written as\n",
    "\n",
    "$\\mathbf{E} = \\mathbf{E}_0 cos2\\pi\\nu t$,\n",
    "\n",
    "where $\\nu$ is the frequency of the radiation and $\\mathbf{E}_0$ is the electric field vector.  Note that this field is for monochromatic light and has an explicit time dependence.  \n",
    "\n",
    "Hitting a system with this light leads to a change in the Hamiltonian of the system.  That is, the wavefunction of the molecule is perturbed by the presence of the electromagnetic field.  The perturbation to the Hamiltonian can be written as\n",
    "\n",
    "$\\hat{H}^{(1)} = -\\mathbf{\\mu}\\cdot\\mathbf{E} = -\\mathbf{\\mu}\\mathbf{E}_0 cos2\\pi\\nu t$\n",
    "\n",
    "where $\\mu$ is the dipole moment of the molecule.  The complete Hamiltonian for the system is then\n",
    "\n",
    "$\\hat{H} = \\hat{H}^{(0)} + \\hat{H}^{(1)}$,\n",
    "\n",
    "where $\\hat{H}^{(0)}$ is the Hamiltonian of the isolated molecule.   This Hamiltonian has explicit time dependence so we cannot solve the stationary state Schrodinger equation.  This problem can be solved using *time-dependent perturbation theory* but we will not do so now.  Instead we will use some of the results from this solution.  "
   ]
  },
  {
   "cell_type": "markdown",
   "metadata": {},
   "source": [
    "## Transition dipole moment"
   ]
  },
  {
   "cell_type": "markdown",
   "metadata": {},
   "source": [
    "Time-dependent perturbation theory on the above Hamiltonian leads to defining what is called the *transition dipole moment* for a molecule.  This is defined as\n",
    "\n",
    "$\\langle \\nu | \\mu_z | \\nu'\\rangle = \\int_{-\\infty}^{\\infty} \\psi_\\nu(x)\\mu_z(x)\\psi_{\\nu'}(x)dx$,\n",
    "\n",
    "where $\\nu\\rangle$ are stationary state solutions of the $\\hat{H}^{(0)}$ Hamiltonian (isolated molecule).  This quantity dictates the absorpition of a transition from state $\\nu$ to a state $\\nu'$.  \n",
    "\n",
    "We now expand $\\mu_z(x)$ about the equilibrium position ($x=0$)\n",
    "\n",
    "$\\mu_z(x) = \\mu_0 + \\left( \\frac{d\\mu}{dx}\\right)_0x + ...$\n",
    "\n",
    "where $\\mu_0$ is the dipole moment at the equilibrium position and $x$ is the displacement from that position.  Substituting this expansion truncated to second order into the transition dipole moment we get\n",
    "\n",
    "$\\langle \\nu | \\mu_z | \\nu'\\rangle = \\mu_0 \\langle \\nu | \\nu'\\rangle + \\left( \\frac{d\\mu}{dx}\\right)_0 \\langle \\nu |x| \\nu'\\rangle $."
   ]
  },
  {
   "cell_type": "markdown",
   "metadata": {},
   "source": [
    "**Harmonic Oscillator** \n",
    "\n",
    "The above expression is for a general $\\hat{H}^{(0)}$.  We now investigate the Harmonic Oscillator (HO) system with $\\hat{H}^{(0)} = -\\frac{\\hbar^2}{2\\mu}\\frac{d^2}{dx^2}$.  The first term on the right-hand side of the above equality is zero for $\\nu \\neq \\nu'$ due to the orthogonality of HO wavefunctions.  In order to assess the value of the second term, we must recall that the generic HO wavefunction is given as\n",
    "\n",
    "$\\psi_\\nu(x) = N_\\nu H_\\nu(\\alpha^{1/2}x)e^{-\\alpha x^2/2}$\n",
    "\n",
    "where $H_\\nu(\\alpha^{1/2}x)$ is a Hermite polynomial.  There are a few properties of Hermite polynomials that are quite important.  One is that they are orthogonal.  The one we will use to investigate the transition dipole moment is\n",
    "\n",
    "$xH_\\nu(x) = \\nu H_{\\nu-1}(x) + \\frac{1}{2}H_{\\nu+1}(x)$.  \n",
    "\n",
    "If we plug this relationship into the integral above we get\n",
    "\n",
    "$\\langle \\nu | \\mu_z | \\nu'\\rangle =  \\left( \\frac{d\\mu}{dx}\\right)_0 \\langle \\nu |x| \\nu'\\rangle = \\frac{N_\\nu N_{\\nu'}}{\\alpha}\\left( \\frac{d\\mu}{dx}\\right)_0\\int_{-\\infty}^{\\infty} H_{\\nu'}(\\xi)\\left[\\nu H_{\\nu-1}(\\xi) + \\frac{1}{2}H_{\\nu+1}(\\xi)\\right]e^{-\\xi^2}d\\xi$,\n",
    "\n",
    "where we have made the substition $\\xi = \\alpha^{1/2}x$.  Observe that the above equation is nonzero except when $\\nu' = \\nu \\pm 1$.  This demonstrates the selection rule for a harmonic oscillator."
   ]
  },
  {
   "cell_type": "markdown",
   "metadata": {},
   "source": [
    "## Selection Rules "
   ]
  },
  {
   "cell_type": "markdown",
   "metadata": {},
   "source": [
    "\n",
    "$\\Delta \\nu = \\pm 1$"
   ]
  },
  {
   "cell_type": "code",
   "execution_count": 13,
   "metadata": {},
   "outputs": [
    {
     "name": "stdout",
     "output_type": "stream",
     "text": [
      "('<0|x|0> = ', 5.5511151231257827e-17)\n",
      "('<0|x|1> = ', -0.70710678118654746)\n",
      "('<0|x|2> = ', 2.7755575615628914e-17)\n",
      "('<1|x|2> = ', -1.0)\n"
     ]
    }
   ],
   "source": [
    "# lets quantify this for HO wavefunctions\n",
    "import numpy as np\n",
    "from scipy import integrate\n",
    "from scipy.special import hermite\n",
    "from scipy.special import factorial\n",
    "# start by defining N function for analytic solution to HO wavefunctions\n",
    "def Nn(n,alpha):\n",
    "    return 1/np.sqrt(2**n*factorial(n))*(alpha/np.pi)**0.25\n",
    "def ho_psi(n,x):\n",
    "    x2 = np.power(x,2)\n",
    "    return (-1)**n*Nn(n,alpha)*hermite(n)(np.sqrt(alpha)*x)*np.exp(-alpha*x2/2.0)\n",
    "hbar = 1.0\n",
    "k = 1.0\n",
    "m = 1.0\n",
    "alpha = np.sqrt(k*m)/hbar\n",
    "x = np.arange(-20,20,0.01)\n",
    "psi0 = ho_psi(0,x)\n",
    "psi1 = ho_psi(1,x)\n",
    "psi2 = ho_psi(2,x)\n",
    "\n",
    "print(\"<0|x|0> = \", integrate.simps(psi0*x*psi0,x))\n",
    "print(\"<0|x|1> = \", integrate.simps(psi0*x*psi1,x))\n",
    "print(\"<0|x|2> = \", integrate.simps(psi0*x*psi2,x))\n",
    "print(\"<1|x|2> = \", integrate.simps(psi1*x*psi2,x))"
   ]
  },
  {
   "cell_type": "markdown",
   "metadata": {},
   "source": [
    "## Normal Modes"
   ]
  },
  {
   "cell_type": "markdown",
   "metadata": {},
   "source": [
    "In a polyatomic molecule we can write out each bond as a harmonic oscillator.  This leads to an energy function\n",
    "\n",
    "$\\hat{H}(\\mathbf{R}) = 0.5 \\sum_{i=1}^N k_ix_i^2$,\n",
    "\n",
    "where $\\mathbf{R}$ are the coordinates of all atoms, $N$ is the number of bonds in the molecule, $k_i$ is the force constant of bond $i$, and $x_i$ is the displacement from equilibrium position for bond $i$.  This equation is for a set of coupled harmonic oscillators, multiple $x_i$s will depend on the position of one atom, making it quite a challenging problem to solve.  If, instead, we can change our basis and write this as sum over independent harmonic oscillators\n",
    "\n",
    "$\\hat{H}(\\mathbf{Q}) = 0.5 \\sum_{i=1}^N k_iq_i^2$,\n",
    "\n",
    "where $\\mathbf{Q}$ are the transformed coordinates and $q_i$ is the displacement from equilibrium for oscillator $i$.  $\\mathbf{Q}$  are typically reffered to as the normal modes of the system.  These are found by diagonlizing the Hessian matrix.  The Hessian matrix, $\\mathbf{H}$, is the second derivative matrix an element of which is defined as\n",
    "\n",
    "$H_{ij} = \\frac{d^2E}{dx_idx_j}$."
   ]
  },
  {
   "cell_type": "markdown",
   "metadata": {},
   "source": [
    "*Example: Coupled Oscillators in 1D*\n",
    "\n",
    "Consider a system with two masses, $m_1$ and $m_2$, $m_1$ is connected to a wall by a sprint, $m_2$ is connected to a wall by another spring and the two masses are connected together with a third spring.  The Hamiltonian for the system can be written as\n",
    "\n",
    "$H(\\mathbf{x}_1,\\mathbf{x}_2) = 1/2k_1(x_1-x_1^0)^2 + 1/2k_2(x_2-x_2^0)^2 + 1/2k_3((x_2-x_1) - x_{12}^0)^2$\n",
    "\n",
    "where $x_1$ is the position of mass 1, $x_1^0$ is the equilibrium position of spring 1 etc.  We note that the last term in the Hamiltonian couples the positions of masses 1 and 2 and is what makes this problem somewhat challenging.  We will use normal modes to decouple these.  We need to compute and then diagonalize the Hessian matrix.  In this case the Hessian matrix is a 2x2 matrix:\n",
    "\n",
    "$\\mathbf{H} = \\begin{bmatrix} \\frac{d^2E}{dx_1^2} & \\frac{d^2E}{dx_1dx_2} \\\\ \\frac{d^2E}{dx_2dx_1}& \\frac{d^2E}{dx_2^2}\\end{bmatrix} = \\begin{bmatrix} k_1 + k_2 & -k_3 \\\\ -k_3 & k_2+k_3\\end{bmatrix}$"
   ]
  },
  {
   "cell_type": "code",
   "execution_count": 17,
   "metadata": {},
   "outputs": [
    {
     "name": "stdout",
     "output_type": "stream",
     "text": [
      "[[ 0.70710678  0.70710678]\n",
      " [-0.70710678  0.70710678]]\n",
      "[ 3.  1.]\n"
     ]
    }
   ],
   "source": [
    "# toy problem\n",
    "k1 = 1.0\n",
    "k2 = 1.0\n",
    "k3 = 1.0\n",
    "H = np.matrix([[k1+k2,-k3],[-k3,k2+k3]],dtype=float)\n",
    "e,v=np.linalg.eig(H)\n",
    "print(v)\n",
    "print(e)"
   ]
  },
  {
   "cell_type": "code",
   "execution_count": null,
   "metadata": {},
   "outputs": [],
   "source": []
  }
 ],
 "metadata": {
  "kernelspec": {
   "display_name": "Python 3",
   "language": "python",
   "name": "python3"
  },
  "language_info": {
   "codemirror_mode": {
    "name": "ipython",
    "version": 3
   },
   "file_extension": ".py",
   "mimetype": "text/x-python",
   "name": "python",
   "nbconvert_exporter": "python",
   "pygments_lexer": "ipython3",
   "version": "3.6.5"
  }
 },
 "nbformat": 4,
 "nbformat_minor": 2
}
