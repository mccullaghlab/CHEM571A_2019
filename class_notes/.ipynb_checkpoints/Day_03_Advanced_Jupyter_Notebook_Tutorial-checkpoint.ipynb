{
 "cells": [
  {
   "cell_type": "markdown",
   "metadata": {},
   "source": [
    "# Advanced Jupyter Notebook Tutorial"
   ]
  },
  {
   "cell_type": "markdown",
   "metadata": {},
   "source": [
    "Today we will cover some more advanced math concepts in Jupyter notebooks.  Namely, we will discuss\n",
    "1. Integration\n",
    "\n",
    "    This includes a discussion of analtytic vs numeric integration and integral tables.\n",
    "    \n",
    "    \n",
    "2. Matrix manipulations\n",
    "\n",
    "    Eigenvalue/eigenvector problems etc.\n",
    "       \n"
   ]
  },
  {
   "cell_type": "markdown",
   "metadata": {},
   "source": [
    "## Integration"
   ]
  },
  {
   "cell_type": "markdown",
   "metadata": {},
   "source": [
    "## Indefinite integration"
   ]
  },
  {
   "cell_type": "markdown",
   "metadata": {},
   "source": [
    "Consider $f(x) = \\int x^2 dx$, can we write $f(x)$ in a different way?  Sure, if we know the antiderivative of the integrand we can write out f(x) as the indefinite integral.  Namely, $f(x) = \\int x^2 dx = \\frac{x^3}{3} + C$ for arbitrary constant $C$."
   ]
  },
  {
   "cell_type": "markdown",
   "metadata": {},
   "source": [
    "What are the indefinite integrals of the following\n",
    "\n",
    "1. $\\int x^3 dx$\n",
    "2. $\\int e^{x} dx$\n",
    "3. $\\int (x^4 + 4x) dx$\n",
    "4. $\\int \\frac{1}{x} dx$"
   ]
  },
  {
   "cell_type": "markdown",
   "metadata": {},
   "source": [
    "Coding does not help with indefinite integration.  These need to be derived analytically.  Some common indefinite integrals are tabulated here: http://integral-table.com/"
   ]
  },
  {
   "cell_type": "markdown",
   "metadata": {},
   "source": [
    "## Definite integration"
   ]
  },
  {
   "cell_type": "markdown",
   "metadata": {},
   "source": [
    "Definite integration is when we want to evaluate the integral of a function (integrand) over a finite domain.  E.g. $\\int_0^4 x^2dx$.  If the domain is static (i.e. $0$ to $4$ instead of $0$ to $y$) and integration is performed over all variables in the integrand, then the result of a definite integral will be a number (as opposed to a function of x in the case of indefinite integrals).  This may all sound esoteric so let's consider some examples."
   ]
  },
  {
   "cell_type": "markdown",
   "metadata": {},
   "source": [
    "1. $\\int_0^4 x^2 dx$\n",
    "\n",
    "    $ = \\left[ \\frac{x^3}{3} + C\\right]_0^4$   In this step I replace $\\int x^2 dx$ with the indefinite integral \n",
    "    \n",
    "    $ = \\left[\\frac{4^3}{3} + C\\right] - \\left[\\frac{0^3}{3} + C\\right] $  Evaluate the indefinite integral at the limits\n",
    "    \n",
    "    $ = \\frac{64}{3} + C - 0 - C$  Algebra\n",
    "    \n",
    "    $ = \\frac{64}{3}$"
   ]
  },
  {
   "cell_type": "markdown",
   "metadata": {},
   "source": [
    "Notice that the arbitrary constant, $C$, cancels out when you subtract the value of the indefinite integral at the lower bound from that at the upper bound.  This holds true in general thus we typically don't include the arbitrary constant when evaluating the indefinite integral at the bounds of integration.  Let's do another example:"
   ]
  },
  {
   "cell_type": "markdown",
   "metadata": {},
   "source": [
    "1. $\\int_0^4 x^2 dx$\n",
    "\n",
    "    $ = \\left[ \\frac{x^3}{3} + C\\right]_0^4$   In this step I replace $\\int x^2 dx$ with the indefinite integral \n",
    "    \n",
    "    $ = \\left[\\frac{4^3}{3} + C\\right] - \\left[\\frac{0^3}{3} + C\\right] $  Evaluate the indefinite integral at the limits\n",
    "    \n",
    "    $ = \\frac{64}{3} + C - 0 - C$  Algebra\n",
    "    \n",
    "    $ = \\frac{64}{3}$"
   ]
  },
  {
   "cell_type": "code",
   "execution_count": 2,
   "metadata": {},
   "outputs": [
    {
     "data": {
      "text/plain": [
       "21.333333333333332"
      ]
     },
     "execution_count": 2,
     "metadata": {},
     "output_type": "execute_result"
    }
   ],
   "source": [
    "4**3/3"
   ]
  },
  {
   "cell_type": "markdown",
   "metadata": {},
   "source": [
    "## More on Matrices"
   ]
  },
  {
   "cell_type": "code",
   "execution_count": 3,
   "metadata": {},
   "outputs": [],
   "source": [
    "# in this code cell we will import numpy\n",
    "import numpy as np"
   ]
  },
  {
   "cell_type": "code",
   "execution_count": 30,
   "metadata": {},
   "outputs": [
    {
     "name": "stdout",
     "output_type": "stream",
     "text": [
      "[2 3 1]\n"
     ]
    }
   ],
   "source": [
    "# defining an array/vector\n",
    "a = np.array([2,3,1])\n",
    "print(a)"
   ]
  },
  {
   "cell_type": "code",
   "execution_count": 34,
   "metadata": {},
   "outputs": [
    {
     "name": "stdout",
     "output_type": "stream",
     "text": [
      "('Size of array a:', 3)\n",
      "('Data type of array a:', dtype('int64'))\n",
      "('Tranpose of array a:', array([2, 3, 1]))\n"
     ]
    }
   ],
   "source": [
    "# vectors have some attributes that might be of interest\n",
    "print(\"Size of array a:\", a.size)\n",
    "print(\"Data type of array a:\", a.dtype)"
   ]
  },
  {
   "cell_type": "markdown",
   "metadata": {},
   "source": [
    "For a list of all attributes of arrays see: https://docs.scipy.org/doc/numpy-1.13.0/reference/generated/numpy.ndarray.html"
   ]
  },
  {
   "cell_type": "code",
   "execution_count": 43,
   "metadata": {},
   "outputs": [
    {
     "name": "stdout",
     "output_type": "stream",
     "text": [
      "('a=', array([2, 3, 1]))\n",
      "('b=', array([-1,  0,  7]))\n",
      "('a+b=', array([1, 3, 8]))\n",
      "('2a+3b=', array([ 1,  6, 23]))\n",
      "('a*b=', array([-2,  0,  7]))\n",
      "('a*b=', 5)\n",
      "('a x b =', array([ 21, -15,   3]))\n"
     ]
    }
   ],
   "source": [
    "# vector manipulations\n",
    "# for this I start by defining another vector in R3:\n",
    "b = np.array([-1,0,7])\n",
    "print(\"a=\",a)\n",
    "print(\"b=\",b)\n",
    "print(\"a+b=\",a+b)\n",
    "print(\"2a+3b=\",2*a+3*b)\n",
    "print(\"a*b=\",a*b)\n",
    "print(\"a*b=\",np.dot(a,b))\n",
    "# what are the differences between the last two lines?\n",
    "print(\"a x b =\",np.cross(a,b))"
   ]
  },
  {
   "cell_type": "code",
   "execution_count": 48,
   "metadata": {},
   "outputs": [
    {
     "name": "stdout",
     "output_type": "stream",
     "text": [
      "[[1 2]\n",
      " [3 4]]\n",
      "('shape of a:', (2, 2))\n",
      "('size of a:', 4)\n",
      "('data type of a:', dtype('int64'), 'data type of b:', dtype('float64'))\n",
      "('a.T=', matrix([[1, 3],\n",
      "        [2, 4]]))\n"
     ]
    }
   ],
   "source": [
    "# defining a matrix - these are just 2D arrays\n",
    "a = np.matrix([[1,2],[3,4]])\n",
    "b = np.matrix([[1,2],[3,4]],dtype=float)\n",
    "print(a)\n",
    "print(\"shape of a:\",a.shape)\n",
    "print(\"size of a:\",a.size)\n",
    "print(\"data type of a:\", a.dtype, \"data type of b:\", b.dtype)\n",
    "print(\"a.T=\",a.T)"
   ]
  },
  {
   "cell_type": "code",
   "execution_count": 58,
   "metadata": {},
   "outputs": [
    {
     "name": "stdout",
     "output_type": "stream",
     "text": [
      "[[ 5.  6.]\n",
      " [-1.  0.]]\n",
      "('b*c=', matrix([[ 3.,  6.],\n",
      "        [11., 18.]]))\n",
      "('b*c=', matrix([[ 3.,  6.],\n",
      "        [11., 18.]]))\n",
      "('b*cT=', matrix([[17., -1.],\n",
      "        [39., -3.]]))\n"
     ]
    }
   ],
   "source": [
    "# manipulating matrices\n",
    "c = np.matrix([[5,6],[-1,0]],dtype=float)\n",
    "print(c)\n",
    "print(\"b*c=\",b*c)\n",
    "print(\"b*c=\",np.dot(b,c))\n",
    "print(\"b*cT=\",np.dot(b,c.T))"
   ]
  },
  {
   "cell_type": "code",
   "execution_count": 8,
   "metadata": {},
   "outputs": [],
   "source": [
    "# elements in a matrix"
   ]
  }
 ],
 "metadata": {
  "kernelspec": {
   "display_name": "Python 3",
   "language": "python",
   "name": "python3"
  },
  "language_info": {
   "codemirror_mode": {
    "name": "ipython",
    "version": 3
   },
   "file_extension": ".py",
   "mimetype": "text/x-python",
   "name": "python",
   "nbconvert_exporter": "python",
   "pygments_lexer": "ipython3",
   "version": "3.7.1"
  }
 },
 "nbformat": 4,
 "nbformat_minor": 2
}
