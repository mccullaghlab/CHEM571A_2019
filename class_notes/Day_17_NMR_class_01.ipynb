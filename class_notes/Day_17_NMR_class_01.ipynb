{
 "cells": [
  {
   "cell_type": "markdown",
   "metadata": {},
   "source": [
    "# Nuclear Magnetic Resonance"
   ]
  },
  {
   "cell_type": "markdown",
   "metadata": {},
   "source": [
    "![title](img/nmr.png)"
   ]
  },
  {
   "cell_type": "markdown",
   "metadata": {},
   "source": [
    "Nuclear paramagnetism is the net magnetic moment of the nucleus of an atom and occurs in all isotopes with nuclear spin not equal to zero.  That is, all isotopes with an odd number of protons and/or neturons have nuclear paramagnetism.  The magnetic moment of a nucleus is $\\sim 1000$ times less than of a paramagnetic atom due to unpaired electrons.  The bulk magnetic properties of paramagnetic nuclei can be exploited using a magnetic field.\n",
    "\n",
    "The bulk magnetic moment of a sample can be expressed as\n",
    "\n",
    "$M = P[A]\\mu V$,\n",
    "\n",
    "where $\\mu$ is the magnetic moment of each nucleuis, $V$ is the volume , $[A] = C_\\uparrow + C_\\downarrow$ is the total concentration of nuclei and $P[A] = C_\\uparrow - C_\\downarrow$ is the difference in concentration of spin-up and spin-down nuclear moments.\n",
    "\n",
    "In a static magnetic field $\\mathbf{B}_0$, the energy difference between aligned and anti-aligned  spin $1/2$ nuclei is\n",
    "\n",
    "$\\Delta E = h\\Delta \\nu = 2\\mu B_0$.\n",
    "\n",
    "In a thermal system, the population of states $C_\\uparrow$ and $C_\\downarrow$ are proportional to a Boltzmann factor and the ratio of these populations is\n",
    "\n",
    "$\\frac{C_\\uparrow}{C_\\downarrow} = e^{\\frac{2\\mu B_0}{kT}}$.\n",
    "\n",
    "Thus we get\n",
    "\n",
    "$P = \\frac{C_\\uparrow - C_\\downarrow}{C_\\uparrow + C_\\downarrow} = \\frac{e^{\\frac{2\\mu B_0}{kT}}-1}{e^{\\frac{2\\mu B_0}{kT}}+1} = \\frac{e^{\\frac{\\mu B_0}{kT}}-e^{-\\frac{\\mu B_0}{kT}}}{e^{\\frac{\\mu B_0}{kT}}+e^{-\\frac{\\mu B_0}{kT}}}$.\n",
    "\n",
    "$\\frac{\\mu B_0}{kT}$ is small for most magnetic fields and nuclei thus allowing us to approximate $e^{\\pm\\frac{\\mu B_0}{kT}} \\approx 1 \\pm \\frac{\\mu B_0}{kT}$ yielding\n",
    "\n",
    "$P \\approx \\frac{\\mu B_0}{kT}$.\n",
    "\n",
    "For a typical magnetic field ($B_0 = 1.5$ T) and temperature ($T=310 $K), we get $P\\approx 1.1\\times10^{-5}$ is the fraction of spins aligned to the field.  "
   ]
  },
  {
   "cell_type": "markdown",
   "metadata": {},
   "source": [
    "## Quantum Mechanics of NMR"
   ]
  },
  {
   "cell_type": "markdown",
   "metadata": {},
   "source": [
    "Thus the Hamiltonian for an isolated nucleus interacting with a magnetic field is\n",
    "\n",
    "$\\hat{H} = -\\gamma B_z \\hat{I}_z$.\n",
    "\n",
    "The solutions to the time-independent Schrodinger equation with this Hamiltonian are \n",
    "\n",
    "$E = -\\hbar \\gamma m_IB_z$ for $m_I=I, I-1, ..., -I$\n",
    "\n",
    "For a spin $1/2$ system we get $E = \\pm\\frac{\\hbar \\gamma B_z}{2} = \\pm\\frac{\\hbar\\omega_0}{2}$ where $\\omega_0 \\equiv \\gamma B_z$ is the larmor procession frequency.  We will label the wavefunctions by the ket $|I,m_I\\rangle$."
   ]
  },
  {
   "cell_type": "code",
   "execution_count": 2,
   "metadata": {},
   "outputs": [
    {
     "data": {
      "text/plain": [
       "Text(0,0.5,u'Energy Separation for spin 1/2')"
      ]
     },
     "execution_count": 2,
     "metadata": {},
     "output_type": "execute_result"
    },
    {
     "data": {
      "image/png": "[encoded data removed]",
      "text/plain": [
       "<matplotlib.figure.Figure at 0x112266f10>"
      ]
     },
     "metadata": {},
     "output_type": "display_data"
    }
   ],
   "source": [
    "# Note that for a spin 1/2 nuclei there are two energy levels and that these are proportional to the strength of the mangetic field\n",
    "import numpy as np\n",
    "import matplotlib.pyplot as plt\n",
    "%matplotlib inline\n",
    "\n",
    "B = np.arange(0,1,0.01)\n",
    "\n",
    "plt.plot(B,0.5*B)\n",
    "plt.plot(B,-0.5*B)\n",
    "plt.xlabel(\"Magnetic Field Strength\")\n",
    "plt.ylabel(\"Energy Separation for spin 1/2\")\n"
   ]
  },
  {
   "cell_type": "markdown",
   "metadata": {},
   "source": [
    "We note that we can satisfy the time-dependent Schrodinger equation, \n",
    "\n",
    "$i\\hbar\\frac{\\partial}{\\partial t} \\Psi = \\hat{H}\\Psi$,\n",
    "\n",
    "with a wavefunction\n",
    "\n",
    "$e^{-im_I\\omega_0t} |I,m_I\\rangle$.\n",
    "\n",
    "The observable in an NMR experiment is the transverse component of the magnetization.  Namely $\\mu_x$ or $\\mu_y$ if the magnetic field is along the $z-$axis.  Thus we would like to evaluate $\\langle \\mu_x \\rangle$.  We start by expressing our general wavefunction as a expansion in our time-dependent eigenstates:\n",
    "\n",
    "$\\psi\\rangle = \\sum_{m_I=-I}^{m_I=I}A(m_I)e^{-im_I\\omega_0t} |I,m_I\\rangle$,\n",
    "\n",
    "where $A(m_I)$ is the coefficient for each $m_I$ and $\\psi$ is normalized yielding $\\sum_{m_I=-I}^{m_I=I}|A(m_I)|^2=1$.  \n",
    "\n",
    "We now compute the expectation value of $\\mu_x = \\hbar\\gamma I_x$.  We start, however, by expressing $\\mu_x$ in terms of raising and lowing operators\n",
    "\n",
    "$\\mu_x = \\hbar \\gamma \\frac{I_++I_-}{2}$\n",
    "\n",
    "where\n",
    "\n",
    "$I_+|I,m_I\\rangle = \\sqrt{(I-m_I)(I+m_I+1)}|I,m_I+1\\rangle$\n",
    "\n",
    "and \n",
    "\n",
    "$I_-|I,m_I+1\\rangle = \\sqrt{(I-m_I)(I+m_I+1)}|I,m_I\\rangle$.\n",
    "\n",
    "Thus we get\n",
    "\n",
    "$\\langle \\mu_x \\rangle = g\\mu_N\\cos\\omega_0t\\sum_{m_I=-I}^{m_I=I-1}\\sqrt{(I-m_I)(I+m_I+1)}$."
   ]
  },
  {
   "cell_type": "markdown",
   "metadata": {},
   "source": [
    "## Shielding"
   ]
  },
  {
   "cell_type": "markdown",
   "metadata": {},
   "source": [
    "## Spin-spin Coupling"
   ]
  },
  {
   "cell_type": "code",
   "execution_count": null,
   "metadata": {},
   "outputs": [],
   "source": []
  }
 ],
 "metadata": {
  "kernelspec": {
   "display_name": "Python 3",
   "language": "python",
   "name": "python3"
  },
  "language_info": {
   "codemirror_mode": {
    "name": "ipython",
    "version": 3
   },
   "file_extension": ".py",
   "mimetype": "text/x-python",
   "name": "python",
   "nbconvert_exporter": "python",
   "pygments_lexer": "ipython3",
   "version": "3.6.5"
  }
 },
 "nbformat": 4,
 "nbformat_minor": 2
}
