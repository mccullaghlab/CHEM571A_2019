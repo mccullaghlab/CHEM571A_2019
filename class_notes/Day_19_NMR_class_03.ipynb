{
 "cells": [
  {
   "cell_type": "markdown",
   "metadata": {},
   "source": [
    "# NMR Day 3"
   ]
  },
  {
   "cell_type": "markdown",
   "metadata": {},
   "source": [
    "## Spin-spin coupling: A first-order perturbation theory treatment"
   ]
  },
  {
   "cell_type": "markdown",
   "metadata": {},
   "source": [
    "Consider two nuclei in an applied magnetic field of strength $B_0$ along the $z-$axis.  A non-interacting Hamiltonian for these two spins in the magnetic field is\n",
    "\n",
    "$\\hat{H} = -\\gamma_1 B_0(1-\\sigma_1)\\hat{I}_{z1} - \\gamma_2 B_0(1-\\sigma_2)\\hat{I}_{z2}$\n",
    "\n",
    "This non-interacting Hamiltonian would lead to two peaks in an NMR spectra with positions depending on $\\sigma_1$, $\\sigma_2$, $\\hat{I}_{z1}$ and $\\hat{I}_{z2}$.  To account for the possibility of spin-spin interaction, a term can be added to the Hamiltonian\n",
    "\n",
    "$ \\hat{H} = -\\gamma_1 B_0(1-\\sigma_1)\\hat{I}_{z1} - \\gamma_2 B_0(1-\\sigma_2)\\hat{I}_{z2} + \\frac{hJ_{12}}{\\hbar^2}\\hat{I}_1\\cdot\\hat{I}_2$\n",
    "\n",
    "We will treat this with first-order perturbation theory with the spin-spin coupling as the perturbation.  Thus we write\n",
    "\n",
    "$\\hat{H} = \\hat{H}^{(0)} + \\hat{H}^{(1)}$\n",
    "\n",
    "with \n",
    "\n",
    "$\\hat{H}^{(0)} = -\\gamma B_0(1-\\sigma_1)\\hat{I}_{z1} - \\gamma B_0(1-\\sigma_2)\\hat{I}_{z2}$\n",
    "\n",
    "$\\hat{H}^{(1)} = \\frac{hJ_{12}}{\\hbar^2}\\hat{I}_1\\cdot\\hat{I}_2$\n",
    "\n",
    "Perturbation theory tells you that\n",
    "\n",
    "$E = E^{(0)} + E^{(1)}$,\n",
    "\n",
    "where $E^{(0)}$ is the energy of the unperturbed Hamiltonian,\n",
    "\n",
    "$\\hat{H}^{(0)}\\psi^{(0)} = E^{(0)}\\psi^{(0)}$,\n",
    "\n",
    "and\n",
    "\n",
    "$E^{(1)} = \\langle \\psi^{(0)}|\\hat{H}^{(1)}|\\psi^{(0)}\\rangle$.\n",
    "\n",
    "For a two spin-system, with Hamiltonian $\\hat{H}^{(0)}$, the spin eigenfunctions of interest are denoted\n",
    "\n",
    "$| I_1,m_{I_1}, I_2, m_{I_2}\\rangle$\n",
    "\n",
    "where \n",
    "\n",
    "$\\hat{I}_{z1} | I_1,m_{I_1}, I_2, m_{I_2}\\rangle = \\hbar m_{I_1}| I_1,m_{I_1}, I_2, m_{I_2}\\rangle $\n",
    "\n",
    "and \n",
    "\n",
    "$\\hat{I}_{z2} | I_1,m_{I_1}, I_2, m_{I_2}\\rangle = \\hbar m_{I_2}| I_1,m_{I_1}, I_2, m_{I_2}\\rangle $.\n",
    "\n",
    "For two spins with $I=1/2$, we have four possible wavefunctions $m_{I_1}=\\pm 1/2$, $m_{I_2}=\\pm 1/2$.  Or\n",
    "\n",
    "$\\psi_1 = | \\frac{1}{2},\\frac{1}{2}, \\frac{1}{2}, \\frac{1}{2}\\rangle = |\\alpha(1)\\alpha(2)\\rangle$\n",
    "\n",
    "$\\psi_2 = | \\frac{1}{2},\\frac{-1}{2}, \\frac{1}{2}, \\frac{1}{2}\\rangle = |\\beta(1)\\alpha(2)\\rangle$\n",
    "\n",
    "$\\psi_3 = | \\frac{1}{2},\\frac{1}{2}, \\frac{1}{2}, \\frac{-1}{2}\\rangle = |\\alpha(1)\\beta(2)\\rangle$\n",
    "\n",
    "$\\psi_4 = | \\frac{1}{2},\\frac{-1}{2}, \\frac{1}{2}, \\frac{-1}{2}\\rangle = |\\beta(1)\\beta(2)\\rangle$.\n",
    "\n",
    "The corresponding $E^{(0)}$s are determined from the following Schrodinger equations:\n",
    "\n",
    "$\\hat{H}^{(0)}\\psi_1 = \\left[-\\gamma B_0(1-\\sigma_1)\\hat{I}_{z1} - \\gamma B_0(1-\\sigma_2)\\hat{I}_{z2}\\right]|\\alpha(1)\\alpha(2)\\rangle = -\\hbar\\gamma B_0\\left(1-\\frac{\\sigma_1+\\sigma_2}{2}\\right)|\\alpha(1)\\alpha(2)\\rangle$\n",
    "\n",
    "$\\Rightarrow E^{(0)}_1 = -\\hbar\\gamma B_0\\left(1-\\frac{\\sigma_1+\\sigma_2}{2}\\right)$\n",
    "\n",
    "$\\hat{H}^{(0)}\\psi_2 = \\left[-\\gamma B_0(1-\\sigma_1)\\hat{I}_{z1} - \\gamma B_0(1-\\sigma_2)\\hat{I}_{z2}\\right]|\\beta(1)\\alpha(2)\\rangle = -\\frac{\\hbar\\gamma B_0}{2}(\\sigma_1-\\sigma_2)|\\beta(1)\\alpha(2)\\rangle$\n",
    "\n",
    "$\\Rightarrow E^{(0)}_2 = -\\frac{\\hbar\\gamma B_0}{2}(\\sigma_1-\\sigma_2)$\n",
    "\n",
    "$\\hat{H}^{(0)}\\psi_3 = \\left[-\\gamma B_0(1-\\sigma_1)\\hat{I}_{z1} - \\gamma B_0(1-\\sigma_2)\\hat{I}_{z2}\\right]|\\alpha(1)\\beta(2)\\rangle = \\frac{\\hbar\\gamma B_0}{2}(\\sigma_1-\\sigma_2)|\\alpha(1)\\beta(2)\\rangle$\n",
    "\n",
    "$\\Rightarrow E^{(0)}_3 = \\frac{\\hbar\\gamma B_0}{2}(\\sigma_1-\\sigma_2)$\n",
    "\n",
    "$\\hat{H}^{(0)}\\psi_4 = \\left[-\\gamma B_0(1-\\sigma_1)\\hat{I}_{z1} - \\gamma B_0(1-\\sigma_2)\\hat{I}_{z2}\\right]|\\beta(1)\\beta(2)\\rangle = \\hbar\\gamma B_0\\left(1-\\frac{\\sigma_1+\\sigma_2}{2}\\right)|\\beta(1)\\beta(2)\\rangle$.\n",
    "\n",
    "$\\Rightarrow E^{(0)}_4 = \\hbar\\gamma B_0\\left(1-\\frac{\\sigma_1+\\sigma_2}{2}\\right)$"
   ]
  },
  {
   "cell_type": "markdown",
   "metadata": {},
   "source": [
    "Next we need to compute the first order correction terms.  We will denote these $E^{(1)}_1$, $E^{(1)}_2$, $E^{(1)}_3$ and $E^{(1)}_4$ to denote the first order corrections to the energies of the four wavefunctions above.  \n",
    "\n",
    "$E^{(1)}_i = \\langle \\psi_i|\\hat{H}^{(1)}|\\psi_i\\rangle$\n",
    "\n",
    "$ = \\frac{hJ_{12}}{\\hbar^2}\\langle\\psi_i|\\hat{I}_1\\cdot\\hat{I}_2|\\psi_i\\rangle$\n",
    "\n",
    "Let's start by investigating the operator $\\hat{I}_1\\cdot\\hat{I}_2$.  It is relatively easy to show\n",
    "\n",
    "$\\hat{I}_1\\cdot\\hat{I}_2 = \\hat{I}_{x1}\\hat{I}_{x2} + \\hat{I}_{y1}\\hat{I}_{y2} + \\hat{I}_{z1}\\hat{I}_{z2} $\n",
    "\n",
    "Thus we can expand $E^{(1)}_i$ to have three terms for each $i$\n",
    "\n",
    "$E^{(1)}_i = \\frac{hJ_{12}}{\\hbar^2} \\left[ \\langle\\psi_i|\\hat{I}_{x1}\\hat{I}_{x2}|\\psi_i\\rangle + \\langle\\psi_i|\\hat{I}_{y1}\\hat{I}_{y2}|\\psi_i\\rangle+ \\langle\\psi_i|\\hat{I}_{z1}\\hat{I}_{z2}|\\psi_i\\rangle\\right]$\n",
    "\n",
    "$ =  E^{(1)}_{x,i} + E^{(1)}_{y,i} + E^{(1)}_{z,i}$\n",
    "\n",
    "We start by solving the four versions (four wavefunctions above) of $E^{(1)}_{z,i}$:\n",
    "\n",
    "$E^{(1)}_{z,1} = \\frac{hJ_{12}}{\\hbar^2}\\langle\\alpha(1)\\alpha(2)|\\hat{I}_{z1}\\hat{I}_{z2}|\\alpha(1)\\alpha(2)\\rangle$\n",
    "\n",
    "$ = \\frac{hJ_{12}}{\\hbar^2}\\langle\\alpha(1)\\alpha(2)|\\frac{\\hbar^2}{4}|\\alpha(1)\\alpha(2)\\rangle = \\frac{hJ_{12}}{4}$\n",
    "\n",
    "This is by far the easiest term.  For the others we need to know the following relationships:\n",
    "\n",
    "$\\hat{I}_x|\\alpha\\rangle = \\frac{\\hbar}{2}|\\beta\\rangle$\n",
    "\n",
    "$\\hat{I}_y|\\alpha\\rangle = \\frac{i\\hbar}{2}|\\beta\\rangle$\n",
    "\n",
    "$\\hat{I}_x|\\beta\\rangle = \\frac{\\hbar}{2}|\\alpha\\rangle$\n",
    "\n",
    "$\\hat{I}_y|\\beta\\rangle = -\\frac{i\\hbar}{2}|\\alpha\\rangle$\n",
    "\n",
    "Using these, it can be shown that\n",
    "\n",
    "$E^{(1)}_{x,1} = 0$\n",
    "\n",
    "and \n",
    "\n",
    "$E^{(1)}_{y,1} = 0$\n",
    "\n",
    "Thus, for the first-order perturbation energy of wavefunction one of two spins with $I=1/2$ we get:\n",
    "\n",
    "$E_1 = E^{(0)}_1 + E^{(1)}_1 = -\\hbar\\gamma B_0\\left(1-\\frac{\\sigma_1+\\sigma_2}{2}\\right) +   \\frac{hJ_{12}}{4}$\n",
    "\n",
    "Similarly, we will get\n",
    "\n",
    "$E_2 = E^{(0)}_2 + E^{(1)}_2 = -\\frac{\\hbar\\gamma B_0}{2}\\left(\\sigma_1-\\sigma_2\\right) -   \\frac{hJ_{12}}{4}$\n",
    "\n",
    "$E_3 = E^{(0)}_3 + E^{(1)}_3 = \\frac{\\hbar\\gamma B_0}{2}\\left(\\sigma_1-\\sigma_2\\right) -   \\frac{hJ_{12}}{4}$\n",
    "\n",
    "$E_4 = E^{(0)}_4 + E^{(1)}_4 = \\hbar\\gamma B_0\\left(1-\\frac{\\sigma_1+\\sigma_2}{2}\\right) +   \\frac{hJ_{12}}{4}$\n",
    "\n",
    "It may be useful to make the following substitution\n",
    "\n",
    "$\\nu_0 = \\frac{\\gamma B_0}{2\\pi}$."
   ]
  },
  {
   "cell_type": "markdown",
   "metadata": {},
   "source": [
    "The transition rules for nuclear spin are that you can only have one spin change by one $m_I$.  Thus the transitions in the two spin system are\n",
    "\n",
    "$\\alpha(1)\\alpha(2) \\rightarrow \\beta(1)\\alpha(2)$ or $1\\rightarrow2$\n",
    "\n",
    "$\\alpha(1)\\alpha(2) \\rightarrow \\alpha(1)\\beta(2)$ or $1\\rightarrow3$\n",
    "\n",
    "$\\beta(1)\\alpha(2) \\rightarrow \\beta(1)\\beta(2)$ or $2\\rightarrow4$\n",
    "\n",
    "$\\alpha(1)\\beta(2) \\rightarrow \\beta(1)\\beta(2)$ or $3\\rightarrow4$\n",
    "\n",
    "The frequencies associated with these transitions are\n",
    "\n",
    "$\\nu_{1\\rightarrow2} = \\nu_0(1-\\sigma_1)-\\frac{J_{12}}{2}$\n",
    "\n",
    "$\\nu_{1\\rightarrow3} = \\nu_0(1-\\sigma_2)-\\frac{J_{12}}{2}$\n",
    "\n",
    "$\\nu_{2\\rightarrow4} = \\nu_0(1-\\sigma_2)+\\frac{J_{12}}{2}$\n",
    "\n",
    "$\\nu_{3\\rightarrow4} = \\nu_0(1-\\sigma_1)+\\frac{J_{12}}{2}$"
   ]
  },
  {
   "cell_type": "code",
   "execution_count": 7,
   "metadata": {},
   "outputs": [],
   "source": [
    "import numpy as np\n",
    "a = np.array([1.09861E+01, -8.28599E+00,  2.01372E+01])"
   ]
  },
  {
   "cell_type": "code",
   "execution_count": 11,
   "metadata": {},
   "outputs": [
    {
     "name": "stdout",
     "output_type": "stream",
     "text": [
      "[ 0.45043962 -0.33973277  0.82564265]\n"
     ]
    }
   ],
   "source": [
    "print a/np.linalg.norm(a)"
   ]
  },
  {
   "cell_type": "code",
   "execution_count": null,
   "metadata": {},
   "outputs": [],
   "source": []
  }
 ],
 "metadata": {
  "kernelspec": {
   "display_name": "Python 2",
   "language": "python",
   "name": "python2"
  },
  "language_info": {
   "codemirror_mode": {
    "name": "ipython",
    "version": 2
   },
   "file_extension": ".py",
   "mimetype": "text/x-python",
   "name": "python",
   "nbconvert_exporter": "python",
   "pygments_lexer": "ipython2",
   "version": "2.7.14"
  }
 },
 "nbformat": 4,
 "nbformat_minor": 2
}
