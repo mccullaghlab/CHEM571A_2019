{
 "cells": [
  {
   "cell_type": "markdown",
   "metadata": {},
   "source": [
    "# Exam #1 CHEM 571A Fall 2019"
   ]
  },
  {
   "cell_type": "markdown",
   "metadata": {},
   "source": [
    "1.  (20pts) Operator math\n",
    "\n",
    "    a. Determine $\\hat{A}^3$ for the following operators $\\hat{A}$:\n",
    "    \n",
    "       i. $\\frac{d^2}{dx^2} + \\frac{1}{x}$\n",
    "        \n",
    "       ii. $\\frac{d^2}{dxdy} + x^2 + 2xy$\n",
    "         \n",
    "    b. Determine the commutator of the following two operators\n",
    "    \n",
    "     i. $\\hat{A} = \\frac{1}{x} $, $\\hat{B} = \\frac{d^2}{dx^2} $\n",
    "        \n",
    "    ii. $\\hat{A} = 2x^2 $, $\\hat{B} = (1+x)\\frac{d}{dx} $\n",
    "        \n",
    "\n",
    "2. (80pts) Consider a system of two oppositely charged particles that cannot overlap.  The Hamiltonian of such a system is given as\n",
    "$\\hat{H} = \\frac{\\hat{p}^2}{2\\mu} + \\frac{q_1q_2}{r} + \\frac{\\sigma}{r^6}$,\n",
    "where $\\hat{p}$ is the momentum operator, $\\mu$ is the reduced mass of the two particles, $q_i$ is the charge on particle $i$, $r$ is the separation of the particles and $\\sigma$ is an excluded volume parameter.  Consider these two particles to each have the mass of a proton and to have the $q_1 = 1e$ and $q_2 = -1e$.  Additionally, we will set $\\sigma = 1$ $\\frac{\\hbar^2a_0^4}{m_e}$ where $a_0$ in the Bohr radius.\n",
    "\n",
    "   a. Plot the potential energy of the two particles as a function of $r$ over the domain $1<r<10$.\n",
    "   \n",
    "   b. What are the boundary conditions of $V(r)$ ($\\lim_{r\\rightarrow0}V(r)=?$ and $\\lim_{r\\rightarrow\\infty}V(r)=?$)?\n",
    "   \n",
    "   c. Develop a set of basis functions over the domain $0<r<10$ that can be used to describe $V(r)$.  Write out the basis set and plot it over domain $1<r<10$.\n",
    "   \n",
    "   d. Determine the variational $S_{ij}$ and $H_{ij}$ for this basis set and Hamiltonian.\n",
    "   \n",
    "   e. Use the variational approach to solve for the ground state energy and wavefunction of this system.  Provide the energy and plot the wavefunction.\n",
    "   \n",
    "   f. Determine $\\langle r^2 \\rangle$ for the ground state and first excited state of this system."
   ]
  },
  {
   "cell_type": "code",
   "execution_count": null,
   "metadata": {},
   "outputs": [],
   "source": []
  }
 ],
 "metadata": {
  "kernelspec": {
   "display_name": "Python 3",
   "language": "python",
   "name": "python3"
  },
  "language_info": {
   "codemirror_mode": {
    "name": "ipython",
    "version": 3
   },
   "file_extension": ".py",
   "mimetype": "text/x-python",
   "name": "python",
   "nbconvert_exporter": "python",
   "pygments_lexer": "ipython3",
   "version": "3.6.5"
  }
 },
 "nbformat": 4,
 "nbformat_minor": 2
}
